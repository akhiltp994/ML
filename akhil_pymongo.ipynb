{
 "cells": [
  {
   "cell_type": "markdown",
   "id": "3fb09d4b",
   "metadata": {},
   "source": [
    "# CRUD Operations on MongoDB"
   ]
  },
  {
   "cell_type": "code",
   "execution_count": 1,
   "id": "69e544ab",
   "metadata": {},
   "outputs": [
    {
     "name": "stdout",
     "output_type": "stream",
     "text": [
      "Requirement already satisfied: pymongo in /home/ibab/.local/lib/python3.8/site-packages (4.0.1)\r\n"
     ]
    }
   ],
   "source": [
    "#Pymongo is the library we need to connect to MongoDB instance \n",
    "!pip install pymongo"
   ]
  },
  {
   "cell_type": "code",
   "execution_count": 8,
   "id": "4970df8d",
   "metadata": {},
   "outputs": [],
   "source": [
    "import pymongo"
   ]
  },
  {
   "cell_type": "code",
   "execution_count": 21,
   "id": "e7409e0c",
   "metadata": {},
   "outputs": [],
   "source": [
    "#MongoDB runs on port 27017 \n",
    "connection_url=\"mongodb://localhost:27017/\"\n",
    "\n",
    "#connect to instance\n",
    "client=pymongo.MongoClient(connection_url)\n",
    "mydb = client['my_example_db']"
   ]
  },
  {
   "cell_type": "markdown",
   "id": "0016603b",
   "metadata": {},
   "source": [
    "# Create and insert documents"
   ]
  },
  {
   "cell_type": "code",
   "execution_count": 22,
   "id": "44904877",
   "metadata": {},
   "outputs": [
    {
     "name": "stdout",
     "output_type": "stream",
     "text": [
      "61cff7502b9fd4f246848d61\n"
     ]
    }
   ],
   "source": [
    "mycol = mydb[\"Agents\"]\n",
    "\n",
    "#insert one by one \n",
    "mydict = { \"name\": \"Bob\", \"city\": \"Mumbai\" }\n",
    "mycol.insert_one(mydict)\n",
    "mydict = { \"name\": \"Biswas\", \"city\": \"Agra\" }\n",
    "x = mycol.insert_one(mydict)\n",
    "print(x.inserted_id)"
   ]
  },
  {
   "cell_type": "code",
   "execution_count": 23,
   "id": "f62519fa",
   "metadata": {},
   "outputs": [
    {
     "name": "stdout",
     "output_type": "stream",
     "text": [
      "ids of documents\n",
      "[1, 2, 3, 4, 5, 6, 7, 8]\n"
     ]
    }
   ],
   "source": [
    "#insert many at a time\n",
    "\n",
    "mylist = [\n",
    "  { \"_id\": 1, \"name\": \"Harsh\", \"city\": \"Bengaluru\"},\n",
    "  { \"_id\": 2, \"name\": \"Gayathri\", \"city\": \"Mumbai\"},\n",
    "  { \"_id\": 3, \"name\": \"Akhil\", \"city\": \"Delhi\"},\n",
    "  { \"_id\": 4, \"name\": \"Rose\", \"city\": \"Agra\"},\n",
    "  { \"_id\": 5, \"name\": \"Nimisha\", \"city\": \"Idukki\"},\n",
    "  { \"_id\": 6, \"name\": \"Akhila\", \"city\": \"Manjapra\"},\n",
    "  { \"_id\": 7, \"name\": \"Arnav\", \"city\": \"London\"},\n",
    "  { \"_id\": 8, \"name\": \"Ravi\", \"city\": \"Stockholm\"}]\n",
    "x = mycol.insert_many(mylist)\n",
    "print('ids of documents')\n",
    "print(x.inserted_ids)"
   ]
  },
  {
   "cell_type": "markdown",
   "id": "d88b4678",
   "metadata": {},
   "source": [
    "# Read"
   ]
  },
  {
   "cell_type": "code",
   "execution_count": 24,
   "id": "9b1c1637",
   "metadata": {},
   "outputs": [
    {
     "name": "stdout",
     "output_type": "stream",
     "text": [
      "{'_id': ObjectId('61cff7502b9fd4f246848d60'), 'name': 'Bob', 'city': 'Mumbai'}\n"
     ]
    }
   ],
   "source": [
    "x = mycol.find_one()\n",
    "\n",
    "#print one doc\n",
    "print(x)"
   ]
  },
  {
   "cell_type": "code",
   "execution_count": 25,
   "id": "db148edc",
   "metadata": {},
   "outputs": [
    {
     "name": "stdout",
     "output_type": "stream",
     "text": [
      "{'_id': ObjectId('61cff7502b9fd4f246848d60'), 'name': 'Bob', 'city': 'Mumbai'}\n",
      "{'_id': ObjectId('61cff7502b9fd4f246848d61'), 'name': 'Biswas', 'city': 'Agra'}\n",
      "{'_id': 1, 'name': 'Harsh', 'city': 'Bengaluru'}\n",
      "{'_id': 2, 'name': 'Gayathri', 'city': 'Mumbai'}\n",
      "{'_id': 3, 'name': 'Akhil', 'city': 'Delhi'}\n",
      "{'_id': 4, 'name': 'Rose', 'city': 'Agra'}\n",
      "{'_id': 5, 'name': 'Nimisha', 'city': 'Idukki'}\n",
      "{'_id': 6, 'name': 'Akhila', 'city': 'Manjapra'}\n",
      "{'_id': 7, 'name': 'Arnav', 'city': 'London'}\n",
      "{'_id': 8, 'name': 'Ravi', 'city': 'Stockholm'}\n"
     ]
    }
   ],
   "source": [
    "#print all doc\n",
    "for x in mycol.find():\n",
    "    print(x)"
   ]
  },
  {
   "cell_type": "code",
   "execution_count": 26,
   "id": "8d51ec24",
   "metadata": {},
   "outputs": [
    {
     "name": "stdout",
     "output_type": "stream",
     "text": [
      "{'_id': ObjectId('61cff7502b9fd4f246848d60'), 'name': 'Bob', 'city': 'Mumbai'}\n",
      "{'_id': 2, 'name': 'Gayathri', 'city': 'Mumbai'}\n"
     ]
    }
   ],
   "source": [
    "#find document using city\n",
    "\n",
    "myquery = { \"city\": \"Mumbai\" }\n",
    "\n",
    "mydoc = mycol.find(myquery)\n",
    "\n",
    "for x in mydoc:\n",
    "  print(x)"
   ]
  },
  {
   "cell_type": "code",
   "execution_count": 27,
   "id": "c1233e51",
   "metadata": {},
   "outputs": [
    {
     "name": "stdout",
     "output_type": "stream",
     "text": [
      "{'_id': 1, 'name': 'Harsh', 'city': 'Bengaluru'}\n",
      "{'_id': 2, 'name': 'Gayathri', 'city': 'Mumbai'}\n",
      "{'_id': 4, 'name': 'Rose', 'city': 'Agra'}\n",
      "{'_id': 5, 'name': 'Nimisha', 'city': 'Idukki'}\n",
      "{'_id': 8, 'name': 'Ravi', 'city': 'Stockholm'}\n"
     ]
    }
   ],
   "source": [
    "#find doc using Regex\n",
    "#example names starting with G or higher letters\n",
    "\n",
    "myquery = { \"name\": { \"$gt\": \"G\" } }\n",
    "\n",
    "mydoc = mycol.find(myquery)\n",
    "\n",
    "for x in mydoc:\n",
    "    print(x)"
   ]
  },
  {
   "cell_type": "markdown",
   "id": "b40a9952",
   "metadata": {},
   "source": [
    "# Update"
   ]
  },
  {
   "cell_type": "code",
   "execution_count": 28,
   "id": "b23dffa5",
   "metadata": {},
   "outputs": [
    {
     "name": "stdout",
     "output_type": "stream",
     "text": [
      "{'_id': ObjectId('61cff7502b9fd4f246848d60'), 'name': 'Bob', 'city': 'Mumbai'}\n",
      "{'_id': ObjectId('61cff7502b9fd4f246848d61'), 'name': 'Biswas', 'city': 'Agra'}\n",
      "{'_id': 1, 'name': 'Harsh', 'city': 'Bengaluru'}\n",
      "{'_id': 2, 'name': 'Gayathri', 'city': 'Mumbai'}\n",
      "{'_id': 3, 'name': 'Akhil', 'city': 'Delhi'}\n",
      "{'_id': 4, 'name': 'Rose', 'city': 'Agra'}\n",
      "{'_id': 5, 'name': 'Nimisha', 'city': 'Ernakulam'}\n",
      "{'_id': 6, 'name': 'Akhila', 'city': 'Manjapra'}\n",
      "{'_id': 7, 'name': 'Arnav', 'city': 'London'}\n",
      "{'_id': 8, 'name': 'Ravi', 'city': 'Stockholm'}\n"
     ]
    }
   ],
   "source": [
    "#update one\n",
    "myquery = { \"city\": \"Idukki\" }\n",
    "newvalues = { \"$set\": { \"city\": \"Ernakulam\" } }\n",
    "\n",
    "mycol.update_one(myquery, newvalues)\n",
    "\n",
    "#print agents after the update:\n",
    "for x in mycol.find():\n",
    "  print(x)"
   ]
  },
  {
   "cell_type": "code",
   "execution_count": 29,
   "id": "25196832",
   "metadata": {},
   "outputs": [
    {
     "name": "stdout",
     "output_type": "stream",
     "text": [
      "2 documents updated.\n"
     ]
    }
   ],
   "source": [
    "#change city of all in Mumbai to Chennai\n",
    "\n",
    "myquery = { \"city\": \"Mumbai\" }\n",
    "newvalues = { \"$set\": { \"city\": \"Chennai\" } }\n",
    "\n",
    "x = mycol.update_many(myquery, newvalues)\n",
    "\n",
    "print(x.modified_count, \"documents updated.\")"
   ]
  },
  {
   "cell_type": "markdown",
   "id": "da822420",
   "metadata": {},
   "source": [
    "# Delete"
   ]
  },
  {
   "cell_type": "code",
   "execution_count": 30,
   "id": "0718e162",
   "metadata": {},
   "outputs": [
    {
     "name": "stdout",
     "output_type": "stream",
     "text": [
      "{'_id': ObjectId('61cff7502b9fd4f246848d61'), 'name': 'Biswas', 'city': 'Agra'}\n",
      "{'_id': 1, 'name': 'Harsh', 'city': 'Bengaluru'}\n",
      "{'_id': 2, 'name': 'Gayathri', 'city': 'Chennai'}\n",
      "{'_id': 3, 'name': 'Akhil', 'city': 'Delhi'}\n",
      "{'_id': 4, 'name': 'Rose', 'city': 'Agra'}\n",
      "{'_id': 5, 'name': 'Nimisha', 'city': 'Ernakulam'}\n",
      "{'_id': 6, 'name': 'Akhila', 'city': 'Manjapra'}\n",
      "{'_id': 7, 'name': 'Arnav', 'city': 'London'}\n",
      "{'_id': 8, 'name': 'Ravi', 'city': 'Stockholm'}\n"
     ]
    }
   ],
   "source": [
    "#delete one doc\n",
    "myquery = { \"city\": \"Chennai\" }\n",
    "\n",
    "mycol.delete_one(myquery)\n",
    "\n",
    "#print agents after the delete:\n",
    "for x in mycol.find():\n",
    "  print(x)"
   ]
  },
  {
   "cell_type": "code",
   "execution_count": 31,
   "id": "c837f34d",
   "metadata": {},
   "outputs": [
    {
     "name": "stdout",
     "output_type": "stream",
     "text": [
      "2  documents deleted.\n",
      "{'_id': ObjectId('61cff7502b9fd4f246848d61'), 'name': 'Biswas', 'city': 'Agra'}\n",
      "{'_id': 1, 'name': 'Harsh', 'city': 'Bengaluru'}\n",
      "{'_id': 2, 'name': 'Gayathri', 'city': 'Chennai'}\n",
      "{'_id': 3, 'name': 'Akhil', 'city': 'Delhi'}\n",
      "{'_id': 5, 'name': 'Nimisha', 'city': 'Ernakulam'}\n",
      "{'_id': 6, 'name': 'Akhila', 'city': 'Manjapra'}\n",
      "{'_id': 7, 'name': 'Arnav', 'city': 'London'}\n"
     ]
    }
   ],
   "source": [
    "#delete many doc\n",
    "myquery = { \"name\": {\"$regex\": \"^R\"} }\n",
    "\n",
    "x = mycol.delete_many(myquery)\n",
    "\n",
    "print(x.deleted_count, \" documents deleted.\")\n",
    "\n",
    "#print after deletion\n",
    "for x in mycol.find():\n",
    "  print(x)"
   ]
  },
  {
   "cell_type": "code",
   "execution_count": null,
   "id": "d940b94c",
   "metadata": {},
   "outputs": [],
   "source": []
  },
  {
   "cell_type": "code",
   "execution_count": null,
   "id": "5ad75aa7",
   "metadata": {},
   "outputs": [],
   "source": []
  },
  {
   "cell_type": "code",
   "execution_count": null,
   "id": "63bea60c",
   "metadata": {},
   "outputs": [],
   "source": []
  }
 ],
 "metadata": {
  "kernelspec": {
   "display_name": "Python 3",
   "language": "python",
   "name": "python3"
  },
  "language_info": {
   "codemirror_mode": {
    "name": "ipython",
    "version": 3
   },
   "file_extension": ".py",
   "mimetype": "text/x-python",
   "name": "python",
   "nbconvert_exporter": "python",
   "pygments_lexer": "ipython3",
   "version": "3.8.8"
  }
 },
 "nbformat": 4,
 "nbformat_minor": 5
}
