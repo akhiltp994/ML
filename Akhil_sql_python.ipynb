{
 "cells": [
  {
   "cell_type": "markdown",
   "id": "bcc6fe1b",
   "metadata": {},
   "source": [
    "# CRUD operations in SQL DB"
   ]
  },
  {
   "cell_type": "code",
   "execution_count": 1,
   "id": "89a38e5f",
   "metadata": {},
   "outputs": [],
   "source": [
    "import sqlite3"
   ]
  },
  {
   "cell_type": "markdown",
   "id": "b814ca7d",
   "metadata": {},
   "source": [
    "# Create and insert values "
   ]
  },
  {
   "cell_type": "code",
   "execution_count": 2,
   "id": "d343162b",
   "metadata": {},
   "outputs": [
    {
     "data": {
      "text/plain": [
       "<sqlite3.Cursor at 0x7f6d61748030>"
      ]
     },
     "execution_count": 2,
     "metadata": {},
     "output_type": "execute_result"
    }
   ],
   "source": [
    "#connect to a database\n",
    "\n",
    "conn= sqlite3.connect('my_example_db')\n",
    "\n",
    "#create table called AGENTS\n",
    "conn.execute('''CREATE TABLE  \"AGENTS\" \n",
    "   (\n",
    "    \"AGENT_CODE\" CHAR(6) NOT NULL PRIMARY KEY, \n",
    "    \"AGENT_NAME\" CHAR(40), \n",
    "    \"WORKING_AREA\" CHAR(35), \n",
    "    \"COMMISSION\" NUMBER(10,2), \n",
    "    \"PHONE_NO\" CHAR(15), \n",
    "    \"COUNTRY\" VARCHAR2(25) \n",
    "     )''')"
   ]
  },
  {
   "cell_type": "code",
   "execution_count": 3,
   "id": "87230f60",
   "metadata": {},
   "outputs": [],
   "source": [
    "#insert rows/tuples into table\n",
    "\n",
    "conn.execute(\"INSERT INTO AGENTS VALUES ('A001', 'Ravi Kumar', 'Bangalore', '0.15', '077-45625874', '');\")\n",
    "conn.execute(\"INSERT INTO AGENTS VALUES ('A002', 'Santakumar', 'Chennai', '0.14', '007-22388644', '');\")\n",
    "conn.execute(\"INSERT INTO AGENTS VALUES ('A003', 'Subbarao', 'Bangalore', '0.14', '077-12346674', '');\")\n",
    "conn.execute(\"INSERT INTO AGENTS VALUES ('A004', 'Mukesh', 'Mumbai', '0.11', '029-12358964', '');\")\n",
    "conn.execute(\"INSERT INTO AGENTS VALUES ('A005', 'Ramasundar', 'Bangalore', '0.15', '077-25814763', '');\")\n",
    "conn.commit()"
   ]
  },
  {
   "cell_type": "markdown",
   "id": "6d6c6350",
   "metadata": {},
   "source": [
    "# Read  from table"
   ]
  },
  {
   "cell_type": "code",
   "execution_count": 4,
   "id": "168ad340",
   "metadata": {},
   "outputs": [
    {
     "name": "stdout",
     "output_type": "stream",
     "text": [
      "A001\n",
      "Ravi Kumar\n",
      "Bangalore\n",
      "0.15\n",
      "077-45625874\n",
      "\n",
      "A002\n",
      "Santakumar\n",
      "Chennai\n",
      "0.14\n",
      "007-22388644\n",
      "\n",
      "A003\n",
      "Subbarao\n",
      "Bangalore\n",
      "0.14\n",
      "077-12346674\n",
      "\n",
      "A004\n",
      "Mukesh\n",
      "Mumbai\n",
      "0.11\n",
      "029-12358964\n",
      "\n",
      "A005\n",
      "Ramasundar\n",
      "Bangalore\n",
      "0.15\n",
      "077-25814763\n",
      "\n",
      "All agents in Bangalore\n",
      "------------------------\n",
      "A001\n",
      "Ravi Kumar\n",
      "Bangalore\n",
      "0.15\n",
      "077-45625874\n",
      "\n",
      "A003\n",
      "Subbarao\n",
      "Bangalore\n",
      "0.14\n",
      "077-12346674\n",
      "\n",
      "A005\n",
      "Ramasundar\n",
      "Bangalore\n",
      "0.15\n",
      "077-25814763\n",
      "\n"
     ]
    }
   ],
   "source": [
    "#Read all from table\n",
    "\n",
    "cursor = conn.execute('SELECT * FROM AGENTS')\n",
    "\n",
    "for i in cursor:\n",
    "    for val in i:\n",
    "        print(val)\n",
    "  \n",
    "\n",
    "#Read all agents in bangalore\n",
    "\n",
    "print(\"All agents in Bangalore\")\n",
    "print('------------------------')\n",
    "cursor = conn.execute('SELECT * FROM AGENTS WHERE WORKING_AREA = \"Bangalore\"')\n",
    "\n",
    "for i in cursor:\n",
    "    for val in i:\n",
    "        print(val)"
   ]
  },
  {
   "cell_type": "markdown",
   "id": "c7b8b59c",
   "metadata": {},
   "source": [
    "# Update"
   ]
  },
  {
   "cell_type": "code",
   "execution_count": 5,
   "id": "7e9ec4aa",
   "metadata": {},
   "outputs": [
    {
     "name": "stdout",
     "output_type": "stream",
     "text": [
      "Before updation\n",
      "---------------\n",
      "A001    Ravi Kumar    Bangalore\n",
      "A002    Santakumar    Chennai\n",
      "A003    Subbarao    Bangalore\n",
      "A004    Mukesh    Mumbai\n",
      "A005    Ramasundar    Bangalore\n",
      "After updation\n",
      "--------------\n",
      "A001    Ravi Kumar    Chennai\n",
      "A002    Santakumar    Chennai\n",
      "A003    Subbarao    Bangalore\n",
      "A004    Mukesh    Mumbai\n",
      "A005    Ramasundar    Bangalore\n"
     ]
    }
   ],
   "source": [
    "#print data before updation\n",
    "\n",
    "cursor = conn.execute('SELECT * FROM AGENTS')\n",
    "print(\"Before updation\")\n",
    "print(\"---------------\")\n",
    "for i in cursor:\n",
    "    print(str(i[0])+\"    \"+str(i[1])+\"    \"+str(i[2]))\n",
    "\n",
    "    \n",
    "#update Ravi Kumar location to Chennai\n",
    "\n",
    "\n",
    "cursor = conn.execute('UPDATE AGENTS SET WORKING_AREA = \"Chennai\" WHERE AGENT_NAME=\"Ravi Kumar\"')\n",
    "print(\"After updation\")\n",
    "print(\"--------------\")\n",
    "cursor = conn.execute('SELECT * FROM AGENTS')\n",
    "for i in cursor:\n",
    "    print(str(i[0])+\"    \"+str(i[1])+\"    \"+str(i[2]))"
   ]
  },
  {
   "cell_type": "markdown",
   "id": "6b5a51d3",
   "metadata": {},
   "source": [
    "# Delete"
   ]
  },
  {
   "cell_type": "code",
   "execution_count": 6,
   "id": "12afa691",
   "metadata": {},
   "outputs": [
    {
     "name": "stdout",
     "output_type": "stream",
     "text": [
      "Before updation\n",
      "---------------\n",
      "A001    Ravi Kumar    Chennai\n",
      "A002    Santakumar    Chennai\n",
      "A003    Subbarao    Bangalore\n",
      "A004    Mukesh    Mumbai\n",
      "A005    Ramasundar    Bangalore\n",
      "After deletion\n",
      "--------------\n",
      "A001    Ravi Kumar    Chennai\n",
      "A002    Santakumar    Chennai\n",
      "A003    Subbarao    Bangalore\n",
      "A004    Mukesh    Mumbai\n"
     ]
    }
   ],
   "source": [
    "#print data before deletion\n",
    "\n",
    "cursor = conn.execute('SELECT * FROM AGENTS')\n",
    "print(\"Before deletion\")\n",
    "print(\"---------------\")\n",
    "for i in cursor:\n",
    "    print(str(i[0])+\"    \"+str(i[1])+\"    \"+str(i[2]))\n",
    "\n",
    "    \n",
    "#Delete Ramasundar's entry\n",
    "\n",
    "\n",
    "cursor = conn.execute('DELETE FROM AGENTS WHERE AGENT_NAME=\"Ramasundar\"')\n",
    "print(\"After deletion\")\n",
    "print(\"--------------\")\n",
    "cursor = conn.execute('SELECT * FROM AGENTS')\n",
    "for i in cursor:\n",
    "    print(str(i[0])+\"    \"+str(i[1])+\"    \"+str(i[2]))"
   ]
  },
  {
   "cell_type": "code",
   "execution_count": 7,
   "id": "e504cad2",
   "metadata": {},
   "outputs": [],
   "source": [
    "conn.close()"
   ]
  },
  {
   "cell_type": "code",
   "execution_count": null,
   "id": "ed937ff9",
   "metadata": {},
   "outputs": [],
   "source": []
  },
  {
   "cell_type": "code",
   "execution_count": null,
   "id": "d6b3a64b",
   "metadata": {},
   "outputs": [],
   "source": []
  }
 ],
 "metadata": {
  "kernelspec": {
   "display_name": "Python 3",
   "language": "python",
   "name": "python3"
  },
  "language_info": {
   "codemirror_mode": {
    "name": "ipython",
    "version": 3
   },
   "file_extension": ".py",
   "mimetype": "text/x-python",
   "name": "python",
   "nbconvert_exporter": "python",
   "pygments_lexer": "ipython3",
   "version": "3.8.8"
  }
 },
 "nbformat": 4,
 "nbformat_minor": 5
}
