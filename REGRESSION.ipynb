{
 "cells": [
  {
   "cell_type": "markdown",
   "id": "48617b54",
   "metadata": {},
   "source": [
    "# Closed form"
   ]
  },
  {
   "cell_type": "code",
   "execution_count": 12,
   "id": "1b54f460",
   "metadata": {},
   "outputs": [
    {
     "data": {
      "text/plain": [
       "[0, 1, 0, 10]"
      ]
     },
     "execution_count": 12,
     "metadata": {},
     "output_type": "execute_result"
    },
    {
     "data": {
      "image/png": "[encoded data removed]",
      "text/plain": [
       "<Figure size 432x288 with 1 Axes>"
      ]
     },
     "metadata": {
      "needs_background": "light"
     },
     "output_type": "display_data"
    }
   ],
   "source": [
    "import numpy as np\n",
    "import matplotlib.pyplot as plt\n",
    "\n",
    "\n",
    "X = np.random.rand(100,1)\n",
    "y = 4 + 3*X + np.random.randn(100, 1) \n",
    "\n",
    "plt.scatter(X, y)\n",
    "plt.axis([0,1,0,10])"
   ]
  },
  {
   "cell_type": "code",
   "execution_count": 18,
   "id": "bc1d8cef",
   "metadata": {},
   "outputs": [
    {
     "data": {
      "text/plain": [
       "array([[3.90088194],\n",
       "       [3.03854181]])"
      ]
     },
     "execution_count": 18,
     "metadata": {},
     "output_type": "execute_result"
    }
   ],
   "source": [
    "X_b = np.c_[np.ones((100,1)), X] #add 1 as 1st column and X as 2nd col\n",
    "theta = np.linalg.inv(X_b.T.dot(X_b)).dot(X_b.T).dot(y)\n",
    "theta"
   ]
  },
  {
   "cell_type": "code",
   "execution_count": 31,
   "id": "8357f8b1",
   "metadata": {},
   "outputs": [
    {
     "data": {
      "text/plain": [
       "array([[3.90088194],\n",
       "       [9.97796557]])"
      ]
     },
     "execution_count": 31,
     "metadata": {},
     "output_type": "execute_result"
    }
   ],
   "source": [
    "X_new = np.array([[0],[2]])\n",
    "X_new_b = np.c_[np.ones((2,1)), X_new]\n",
    "y_pred = np.dot(X_new_b, theta)\n",
    "y_pred"
   ]
  },
  {
   "cell_type": "code",
   "execution_count": 37,
   "id": "46842c35",
   "metadata": {},
   "outputs": [
    {
     "data": {
      "image/png": "[encoded data removed]",
      "text/plain": [
       "<Figure size 432x288 with 1 Axes>"
      ]
     },
     "metadata": {
      "needs_background": "light"
     },
     "output_type": "display_data"
    }
   ],
   "source": [
    "plt.plot(X_new, y_pred, \"r-\")\n",
    "plt.plot(X, y, \"b.\")\n",
    "plt.axis([0,1,0,10])\n",
    "plt.show()"
   ]
  },
  {
   "cell_type": "markdown",
   "id": "f999515b",
   "metadata": {},
   "source": [
    "# Scikit-learn"
   ]
  },
  {
   "cell_type": "code",
   "execution_count": 38,
   "id": "975ed73b",
   "metadata": {},
   "outputs": [
    {
     "name": "stdout",
     "output_type": "stream",
     "text": [
      "[3.90088194] [[3.03854181]]\n"
     ]
    },
    {
     "data": {
      "text/plain": [
       "array([[3.90088194],\n",
       "       [9.97796557]])"
      ]
     },
     "execution_count": 38,
     "metadata": {},
     "output_type": "execute_result"
    }
   ],
   "source": [
    "from sklearn.linear_model import LinearRegression\n",
    "linreg = LinearRegression()\n",
    "linreg.fit(X, y)\n",
    "print(linreg.intercept_, linreg.coef_)\n",
    "linreg.predict(X_new)"
   ]
  },
  {
   "cell_type": "markdown",
   "id": "3383e8d2",
   "metadata": {},
   "source": [
    "# GRADIENT DESCENT\n"
   ]
  },
  {
   "cell_type": "code",
   "execution_count": 39,
   "id": "6215a7d8",
   "metadata": {},
   "outputs": [
    {
     "data": {
      "text/plain": [
       "array([[3.90088049],\n",
       "       [3.03854436]])"
      ]
     },
     "execution_count": 39,
     "metadata": {},
     "output_type": "execute_result"
    }
   ],
   "source": [
    "lr = 0.1\n",
    "n_iters = 1000\n",
    "m = 100 \n",
    "\n",
    "theta = np.random.randn(2,1) #random init\n",
    "\n",
    "for _ in range(n_iters):\n",
    "    grads = 2/m * X_b.T.dot(X_b.dot(theta) - y)\n",
    "    theta -= lr*grads\n",
    "    \n",
    "theta"
   ]
  },
  {
   "cell_type": "code",
   "execution_count": 43,
   "id": "3ef27316",
   "metadata": {},
   "outputs": [
    {
     "data": {
      "text/plain": [
       "(array([3.9268382]), array([3.05367519]))"
      ]
     },
     "execution_count": 43,
     "metadata": {},
     "output_type": "execute_result"
    }
   ],
   "source": [
    "#stochastic GD\n",
    "\n",
    "from sklearn.linear_model import SGDRegressor\n",
    "sgdreg = SGDRegressor(n_iter_no_change=50, penalty=None, eta0=0.1)\n",
    "sgdreg.fit(X, y.ravel())\n",
    "sgdreg.intercept_ , sgdreg.coef_"
   ]
  },
  {
   "cell_type": "markdown",
   "id": "35690a03",
   "metadata": {},
   "source": [
    "# Polynomial regression"
   ]
  },
  {
   "cell_type": "code",
   "execution_count": 49,
   "id": "d1ee5d55",
   "metadata": {},
   "outputs": [
    {
     "data": {
      "image/png": "[encoded data removed]",
      "text/plain": [
       "<Figure size 432x288 with 1 Axes>"
      ]
     },
     "metadata": {
      "needs_background": "light"
     },
     "output_type": "display_data"
    }
   ],
   "source": [
    "m = 100\n",
    "X = 6* np.random.rand(m,1) -3\n",
    "y = 0.5 * X**2 + X + 2 + np.random.randn(m, 1)\n",
    "\n",
    "plt.plot(X, y, \"b.\")\n",
    "plt.axis([-3,3,0,10])\n",
    "plt.show()"
   ]
  },
  {
   "cell_type": "code",
   "execution_count": 51,
   "id": "f48589be",
   "metadata": {},
   "outputs": [
    {
     "data": {
      "text/plain": [
       "(array([2.18756122]), array([[1.01057402, 0.51801822]]))"
      ]
     },
     "execution_count": 51,
     "metadata": {},
     "output_type": "execute_result"
    }
   ],
   "source": [
    "from sklearn.preprocessing import PolynomialFeatures\n",
    "polfeat = PolynomialFeatures(degree=2, include_bias=False)\n",
    "X_poly = polfeat.fit_transform(X)\n",
    "#Xpoly contains orig X and X2 as features\n",
    "\n",
    "linreg = LinearRegression()\n",
    "linreg.fit(X_poly, y)\n",
    "linreg.intercept_ , linreg.coef_\n",
    "\n",
    "ypred = "
   ]
  },
  {
   "cell_type": "code",
   "execution_count": null,
   "id": "bbfb92fb",
   "metadata": {},
   "outputs": [],
   "source": [
    "plt.plot(X, y, \"b.\")\n",
    "plt.plot()"
   ]
  }
 ],
 "metadata": {
  "kernelspec": {
   "display_name": "Python 3",
   "language": "python",
   "name": "python3"
  },
  "language_info": {
   "codemirror_mode": {
    "name": "ipython",
    "version": 3
   },
   "file_extension": ".py",
   "mimetype": "text/x-python",
   "name": "python",
   "nbconvert_exporter": "python",
   "pygments_lexer": "ipython3",
   "version": "3.8.8"
  }
 },
 "nbformat": 4,
 "nbformat_minor": 5
}
