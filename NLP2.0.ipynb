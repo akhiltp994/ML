{
 "cells": [
  {
   "cell_type": "markdown",
   "id": "d399130c",
   "metadata": {},
   "source": [
    "# Pre processing "
   ]
  },
  {
   "cell_type": "code",
   "execution_count": 1,
   "id": "1700668f",
   "metadata": {},
   "outputs": [
    {
     "data": {
      "text/html": [
       "<div>\n",
       "<style scoped>\n",
       "    .dataframe tbody tr th:only-of-type {\n",
       "        vertical-align: middle;\n",
       "    }\n",
       "\n",
       "    .dataframe tbody tr th {\n",
       "        vertical-align: top;\n",
       "    }\n",
       "\n",
       "    .dataframe thead th {\n",
       "        text-align: right;\n",
       "    }\n",
       "</style>\n",
       "<table border=\"1\" class=\"dataframe\">\n",
       "  <thead>\n",
       "    <tr style=\"text-align: right;\">\n",
       "      <th></th>\n",
       "      <th>id</th>\n",
       "      <th>text</th>\n",
       "      <th>harsh</th>\n",
       "      <th>extremely_harsh</th>\n",
       "      <th>vulgar</th>\n",
       "      <th>threatening</th>\n",
       "      <th>disrespect</th>\n",
       "      <th>targeted_hate</th>\n",
       "    </tr>\n",
       "  </thead>\n",
       "  <tbody>\n",
       "    <tr>\n",
       "      <th>0</th>\n",
       "      <td>52e0f91a5d7b74552c55</td>\n",
       "      <td>New Main Picture \\n\\nHow about this for the ma...</td>\n",
       "      <td>0</td>\n",
       "      <td>0</td>\n",
       "      <td>0</td>\n",
       "      <td>0</td>\n",
       "      <td>0</td>\n",
       "      <td>0</td>\n",
       "    </tr>\n",
       "    <tr>\n",
       "      <th>1</th>\n",
       "      <td>e2c8e370a8e53ba26bae</td>\n",
       "      <td>Think of them like population charts. Just bec...</td>\n",
       "      <td>0</td>\n",
       "      <td>0</td>\n",
       "      <td>0</td>\n",
       "      <td>0</td>\n",
       "      <td>0</td>\n",
       "      <td>0</td>\n",
       "    </tr>\n",
       "    <tr>\n",
       "      <th>2</th>\n",
       "      <td>03c807f61149a13c8404</td>\n",
       "      <td>This page seems a little misleading. The reaso...</td>\n",
       "      <td>0</td>\n",
       "      <td>0</td>\n",
       "      <td>0</td>\n",
       "      <td>0</td>\n",
       "      <td>0</td>\n",
       "      <td>0</td>\n",
       "    </tr>\n",
       "    <tr>\n",
       "      <th>3</th>\n",
       "      <td>fc63a1ba3372899db19f</td>\n",
       "      <td>\"\\n\\nActually, accounts are never deleted.   \"</td>\n",
       "      <td>0</td>\n",
       "      <td>0</td>\n",
       "      <td>0</td>\n",
       "      <td>0</td>\n",
       "      <td>0</td>\n",
       "      <td>0</td>\n",
       "    </tr>\n",
       "    <tr>\n",
       "      <th>4</th>\n",
       "      <td>0c2bfd9cde8974d9915f</td>\n",
       "      <td>\"\\n\\nYeah yeah, OK.  So did I.  Still, what I ...</td>\n",
       "      <td>0</td>\n",
       "      <td>0</td>\n",
       "      <td>0</td>\n",
       "      <td>0</td>\n",
       "      <td>0</td>\n",
       "      <td>0</td>\n",
       "    </tr>\n",
       "  </tbody>\n",
       "</table>\n",
       "</div>"
      ],
      "text/plain": [
       "                     id                                               text  \\\n",
       "0  52e0f91a5d7b74552c55  New Main Picture \\n\\nHow about this for the ma...   \n",
       "1  e2c8e370a8e53ba26bae  Think of them like population charts. Just bec...   \n",
       "2  03c807f61149a13c8404  This page seems a little misleading. The reaso...   \n",
       "3  fc63a1ba3372899db19f     \"\\n\\nActually, accounts are never deleted.   \"   \n",
       "4  0c2bfd9cde8974d9915f  \"\\n\\nYeah yeah, OK.  So did I.  Still, what I ...   \n",
       "\n",
       "   harsh  extremely_harsh  vulgar  threatening  disrespect  targeted_hate  \n",
       "0      0                0       0            0           0              0  \n",
       "1      0                0       0            0           0              0  \n",
       "2      0                0       0            0           0              0  \n",
       "3      0                0       0            0           0              0  \n",
       "4      0                0       0            0           0              0  "
      ]
     },
     "execution_count": 1,
     "metadata": {},
     "output_type": "execute_result"
    }
   ],
   "source": [
    "import pandas as pd\n",
    "\n",
    "data = pd.read_csv(\"/home/ibab/Desktop/ml_proj/train.csv/train.csv\")\n",
    "data.head()"
   ]
  },
  {
   "cell_type": "code",
   "execution_count": 2,
   "id": "304c3986",
   "metadata": {},
   "outputs": [],
   "source": [
    "from nltk.tokenize import word_tokenize, sent_tokenize"
   ]
  },
  {
   "cell_type": "code",
   "execution_count": 3,
   "id": "ac49b57f",
   "metadata": {
    "scrolled": true
   },
   "outputs": [],
   "source": [
    "#sample of text\n",
    "raw_text = data['text'][:4]\n"
   ]
  },
  {
   "cell_type": "code",
   "execution_count": 4,
   "id": "247f442c",
   "metadata": {},
   "outputs": [
    {
     "data": {
      "text/plain": [
       "array(['New Main Picture \\n\\nHow about this for the main picture.\\n\\nSadly, it dont have its body showing but you get the idea.',\n",
       "       \"Think of them like population charts. Just because every 5 years we have to go back and revise the population numbers for previous years doesn't mean the data is useless and we shouldn't keep population charts at all. The trend is what the charts are there to show, and a bit of volatility doesn't change the trend.\",\n",
       "       'This page seems a little misleading. The reason that the midpoint rule gives an accurate answer is that the acceleration is constant. The midpoint is actually the analytical solution when the acceleration is constant. However, this is not generally applicable to systems where the acceleration is not constant.',\n",
       "       '\"\\n\\nActually, accounts are never deleted.   \"'], dtype=object)"
      ]
     },
     "execution_count": 4,
     "metadata": {},
     "output_type": "execute_result"
    }
   ],
   "source": [
    "raw_text.values"
   ]
  },
  {
   "cell_type": "code",
   "execution_count": 5,
   "id": "392266b8",
   "metadata": {},
   "outputs": [],
   "source": [
    "#convert to lower text \n",
    "\n",
    "clean_text_1 = []\n",
    "def to_lower(raw_text):\n",
    "    for words in raw_text:\n",
    "        clean_text_1.append(str.lower(words))\n",
    "        \n",
    "        "
   ]
  },
  {
   "cell_type": "code",
   "execution_count": 6,
   "id": "190b4121",
   "metadata": {},
   "outputs": [],
   "source": [
    "to_lower(raw_text)"
   ]
  },
  {
   "cell_type": "code",
   "execution_count": 7,
   "id": "18c09c03",
   "metadata": {},
   "outputs": [
    {
     "data": {
      "text/plain": [
       "['new main picture \\n\\nhow about this for the main picture.\\n\\nsadly, it dont have its body showing but you get the idea.',\n",
       " \"think of them like population charts. just because every 5 years we have to go back and revise the population numbers for previous years doesn't mean the data is useless and we shouldn't keep population charts at all. the trend is what the charts are there to show, and a bit of volatility doesn't change the trend.\",\n",
       " 'this page seems a little misleading. the reason that the midpoint rule gives an accurate answer is that the acceleration is constant. the midpoint is actually the analytical solution when the acceleration is constant. however, this is not generally applicable to systems where the acceleration is not constant.',\n",
       " '\"\\n\\nactually, accounts are never deleted.   \"']"
      ]
     },
     "execution_count": 7,
     "metadata": {},
     "output_type": "execute_result"
    }
   ],
   "source": [
    "clean_text_1"
   ]
  },
  {
   "cell_type": "code",
   "execution_count": 8,
   "id": "42ecc44d",
   "metadata": {
    "scrolled": true
   },
   "outputs": [
    {
     "data": {
      "text/plain": [
       "[['new',\n",
       "  'main',\n",
       "  'picture',\n",
       "  'how',\n",
       "  'about',\n",
       "  'this',\n",
       "  'for',\n",
       "  'the',\n",
       "  'main',\n",
       "  'picture',\n",
       "  '.',\n",
       "  'sadly',\n",
       "  ',',\n",
       "  'it',\n",
       "  'dont',\n",
       "  'have',\n",
       "  'its',\n",
       "  'body',\n",
       "  'showing',\n",
       "  'but',\n",
       "  'you',\n",
       "  'get',\n",
       "  'the',\n",
       "  'idea',\n",
       "  '.'],\n",
       " ['think',\n",
       "  'of',\n",
       "  'them',\n",
       "  'like',\n",
       "  'population',\n",
       "  'charts',\n",
       "  '.',\n",
       "  'just',\n",
       "  'because',\n",
       "  'every',\n",
       "  '5',\n",
       "  'years',\n",
       "  'we',\n",
       "  'have',\n",
       "  'to',\n",
       "  'go',\n",
       "  'back',\n",
       "  'and',\n",
       "  'revise',\n",
       "  'the',\n",
       "  'population',\n",
       "  'numbers',\n",
       "  'for',\n",
       "  'previous',\n",
       "  'years',\n",
       "  'does',\n",
       "  \"n't\",\n",
       "  'mean',\n",
       "  'the',\n",
       "  'data',\n",
       "  'is',\n",
       "  'useless',\n",
       "  'and',\n",
       "  'we',\n",
       "  'should',\n",
       "  \"n't\",\n",
       "  'keep',\n",
       "  'population',\n",
       "  'charts',\n",
       "  'at',\n",
       "  'all',\n",
       "  '.',\n",
       "  'the',\n",
       "  'trend',\n",
       "  'is',\n",
       "  'what',\n",
       "  'the',\n",
       "  'charts',\n",
       "  'are',\n",
       "  'there',\n",
       "  'to',\n",
       "  'show',\n",
       "  ',',\n",
       "  'and',\n",
       "  'a',\n",
       "  'bit',\n",
       "  'of',\n",
       "  'volatility',\n",
       "  'does',\n",
       "  \"n't\",\n",
       "  'change',\n",
       "  'the',\n",
       "  'trend',\n",
       "  '.'],\n",
       " ['this',\n",
       "  'page',\n",
       "  'seems',\n",
       "  'a',\n",
       "  'little',\n",
       "  'misleading',\n",
       "  '.',\n",
       "  'the',\n",
       "  'reason',\n",
       "  'that',\n",
       "  'the',\n",
       "  'midpoint',\n",
       "  'rule',\n",
       "  'gives',\n",
       "  'an',\n",
       "  'accurate',\n",
       "  'answer',\n",
       "  'is',\n",
       "  'that',\n",
       "  'the',\n",
       "  'acceleration',\n",
       "  'is',\n",
       "  'constant',\n",
       "  '.',\n",
       "  'the',\n",
       "  'midpoint',\n",
       "  'is',\n",
       "  'actually',\n",
       "  'the',\n",
       "  'analytical',\n",
       "  'solution',\n",
       "  'when',\n",
       "  'the',\n",
       "  'acceleration',\n",
       "  'is',\n",
       "  'constant',\n",
       "  '.',\n",
       "  'however',\n",
       "  ',',\n",
       "  'this',\n",
       "  'is',\n",
       "  'not',\n",
       "  'generally',\n",
       "  'applicable',\n",
       "  'to',\n",
       "  'systems',\n",
       "  'where',\n",
       "  'the',\n",
       "  'acceleration',\n",
       "  'is',\n",
       "  'not',\n",
       "  'constant',\n",
       "  '.'],\n",
       " ['``', 'actually', ',', 'accounts', 'are', 'never', 'deleted.', '``']]"
      ]
     },
     "execution_count": 8,
     "metadata": {},
     "output_type": "execute_result"
    }
   ],
   "source": [
    "clean_text_2 = [ word_tokenize(i) for i in clean_text_1]\n",
    "clean_text_2"
   ]
  },
  {
   "cell_type": "code",
   "execution_count": 9,
   "id": "f903e180",
   "metadata": {},
   "outputs": [],
   "source": [
    "#remove the punctuation symbols\n",
    "import re\n",
    "\n",
    "clean_text_3 = []\n",
    "\n",
    "for words in clean_text_2:\n",
    "    clean = []\n",
    "    for word in words:\n",
    "        res = re.sub(r'[^\\w\\s]','',word)\n",
    "        if res != '':\n",
    "            clean.append(res)\n",
    "    clean_text_3.append(clean)\n"
   ]
  },
  {
   "cell_type": "code",
   "execution_count": 10,
   "id": "de043eb9",
   "metadata": {},
   "outputs": [
    {
     "data": {
      "text/plain": [
       "[['new',\n",
       "  'main',\n",
       "  'picture',\n",
       "  'how',\n",
       "  'about',\n",
       "  'this',\n",
       "  'for',\n",
       "  'the',\n",
       "  'main',\n",
       "  'picture',\n",
       "  'sadly',\n",
       "  'it',\n",
       "  'dont',\n",
       "  'have',\n",
       "  'its',\n",
       "  'body',\n",
       "  'showing',\n",
       "  'but',\n",
       "  'you',\n",
       "  'get',\n",
       "  'the',\n",
       "  'idea'],\n",
       " ['think',\n",
       "  'of',\n",
       "  'them',\n",
       "  'like',\n",
       "  'population',\n",
       "  'charts',\n",
       "  'just',\n",
       "  'because',\n",
       "  'every',\n",
       "  '5',\n",
       "  'years',\n",
       "  'we',\n",
       "  'have',\n",
       "  'to',\n",
       "  'go',\n",
       "  'back',\n",
       "  'and',\n",
       "  'revise',\n",
       "  'the',\n",
       "  'population',\n",
       "  'numbers',\n",
       "  'for',\n",
       "  'previous',\n",
       "  'years',\n",
       "  'does',\n",
       "  'nt',\n",
       "  'mean',\n",
       "  'the',\n",
       "  'data',\n",
       "  'is',\n",
       "  'useless',\n",
       "  'and',\n",
       "  'we',\n",
       "  'should',\n",
       "  'nt',\n",
       "  'keep',\n",
       "  'population',\n",
       "  'charts',\n",
       "  'at',\n",
       "  'all',\n",
       "  'the',\n",
       "  'trend',\n",
       "  'is',\n",
       "  'what',\n",
       "  'the',\n",
       "  'charts',\n",
       "  'are',\n",
       "  'there',\n",
       "  'to',\n",
       "  'show',\n",
       "  'and',\n",
       "  'a',\n",
       "  'bit',\n",
       "  'of',\n",
       "  'volatility',\n",
       "  'does',\n",
       "  'nt',\n",
       "  'change',\n",
       "  'the',\n",
       "  'trend'],\n",
       " ['this',\n",
       "  'page',\n",
       "  'seems',\n",
       "  'a',\n",
       "  'little',\n",
       "  'misleading',\n",
       "  'the',\n",
       "  'reason',\n",
       "  'that',\n",
       "  'the',\n",
       "  'midpoint',\n",
       "  'rule',\n",
       "  'gives',\n",
       "  'an',\n",
       "  'accurate',\n",
       "  'answer',\n",
       "  'is',\n",
       "  'that',\n",
       "  'the',\n",
       "  'acceleration',\n",
       "  'is',\n",
       "  'constant',\n",
       "  'the',\n",
       "  'midpoint',\n",
       "  'is',\n",
       "  'actually',\n",
       "  'the',\n",
       "  'analytical',\n",
       "  'solution',\n",
       "  'when',\n",
       "  'the',\n",
       "  'acceleration',\n",
       "  'is',\n",
       "  'constant',\n",
       "  'however',\n",
       "  'this',\n",
       "  'is',\n",
       "  'not',\n",
       "  'generally',\n",
       "  'applicable',\n",
       "  'to',\n",
       "  'systems',\n",
       "  'where',\n",
       "  'the',\n",
       "  'acceleration',\n",
       "  'is',\n",
       "  'not',\n",
       "  'constant'],\n",
       " ['actually', 'accounts', 'are', 'never', 'deleted']]"
      ]
     },
     "execution_count": 10,
     "metadata": {},
     "output_type": "execute_result"
    }
   ],
   "source": [
    "clean_text_3"
   ]
  },
  {
   "cell_type": "code",
   "execution_count": 11,
   "id": "d94a66f6",
   "metadata": {},
   "outputs": [],
   "source": [
    "\n",
    "from nltk.corpus import stopwords"
   ]
  },
  {
   "cell_type": "code",
   "execution_count": 12,
   "id": "ed7a0360",
   "metadata": {
    "scrolled": true
   },
   "outputs": [
    {
     "data": {
      "text/plain": [
       "[['new',\n",
       "  'main',\n",
       "  'picture',\n",
       "  'main',\n",
       "  'picture',\n",
       "  'sadly',\n",
       "  'dont',\n",
       "  'body',\n",
       "  'showing',\n",
       "  'get',\n",
       "  'idea'],\n",
       " ['think',\n",
       "  'like',\n",
       "  'population',\n",
       "  'charts',\n",
       "  'every',\n",
       "  '5',\n",
       "  'years',\n",
       "  'go',\n",
       "  'back',\n",
       "  'revise',\n",
       "  'population',\n",
       "  'numbers',\n",
       "  'previous',\n",
       "  'years',\n",
       "  'nt',\n",
       "  'mean',\n",
       "  'data',\n",
       "  'useless',\n",
       "  'nt',\n",
       "  'keep',\n",
       "  'population',\n",
       "  'charts',\n",
       "  'trend',\n",
       "  'charts',\n",
       "  'show',\n",
       "  'bit',\n",
       "  'volatility',\n",
       "  'nt',\n",
       "  'change',\n",
       "  'trend'],\n",
       " ['page',\n",
       "  'seems',\n",
       "  'little',\n",
       "  'misleading',\n",
       "  'reason',\n",
       "  'midpoint',\n",
       "  'rule',\n",
       "  'gives',\n",
       "  'accurate',\n",
       "  'answer',\n",
       "  'acceleration',\n",
       "  'constant',\n",
       "  'midpoint',\n",
       "  'actually',\n",
       "  'analytical',\n",
       "  'solution',\n",
       "  'acceleration',\n",
       "  'constant',\n",
       "  'however',\n",
       "  'generally',\n",
       "  'applicable',\n",
       "  'systems',\n",
       "  'acceleration',\n",
       "  'constant'],\n",
       " ['actually', 'accounts', 'never', 'deleted']]"
      ]
     },
     "execution_count": 12,
     "metadata": {},
     "output_type": "execute_result"
    }
   ],
   "source": [
    "#stop words removal\n",
    "clean_text_4 = []\n",
    "\n",
    "for words in clean_text_3:\n",
    "    w = []\n",
    "    for word in words:\n",
    "        if not word in stopwords.words('english'):\n",
    "            w.append(word)\n",
    "    clean_text_4.append(w)\n",
    "\n",
    "clean_text_4"
   ]
  },
  {
   "cell_type": "code",
   "execution_count": 19,
   "id": "c6790550",
   "metadata": {},
   "outputs": [
    {
     "data": {
      "image/png": "[encoded data removed]",
      "text/plain": [
       "<Figure size 720x360 with 1 Axes>"
      ]
     },
     "metadata": {
      "needs_background": "light"
     },
     "output_type": "display_data"
    },
    {
     "data": {
      "text/plain": [
       "<matplotlib.axes._subplots.AxesSubplot at 0x7f3ed46d5fd0>"
      ]
     },
     "execution_count": 19,
     "metadata": {},
     "output_type": "execute_result"
    }
   ],
   "source": [
    "#frequency distribution of words\n",
    "import itertools\n",
    "import matplotlib.pyplot as plt\n",
    "import nltk\n",
    "flat_list = itertools.chain(*clean_text_4)\n",
    "fd = nltk.FreqDist(list(flat_list))\n",
    "plt.figure(figsize=(10,5))\n",
    "fd.plot()"
   ]
  },
  {
   "cell_type": "code",
   "execution_count": null,
   "id": "b8efd6ed",
   "metadata": {},
   "outputs": [],
   "source": []
  },
  {
   "cell_type": "markdown",
   "id": "ee03009e",
   "metadata": {},
   "source": [
    "# Stemming"
   ]
  },
  {
   "cell_type": "code",
   "execution_count": 21,
   "id": "900a298e",
   "metadata": {},
   "outputs": [],
   "source": [
    "#stemming - to remove prefix\n",
    "from nltk.stem.porter import PorterStemmer\n",
    "\n",
    "port = PorterStemmer()"
   ]
  },
  {
   "cell_type": "code",
   "execution_count": 22,
   "id": "fa0ce004",
   "metadata": {
    "scrolled": true
   },
   "outputs": [
    {
     "data": {
      "text/plain": [
       "[['new',\n",
       "  'main',\n",
       "  'pictur',\n",
       "  'main',\n",
       "  'pictur',\n",
       "  'sadli',\n",
       "  'dont',\n",
       "  'bodi',\n",
       "  'show',\n",
       "  'get',\n",
       "  'idea'],\n",
       " ['think',\n",
       "  'like',\n",
       "  'popul',\n",
       "  'chart',\n",
       "  'everi',\n",
       "  '5',\n",
       "  'year',\n",
       "  'go',\n",
       "  'back',\n",
       "  'revis',\n",
       "  'popul',\n",
       "  'number',\n",
       "  'previou',\n",
       "  'year',\n",
       "  'nt',\n",
       "  'mean',\n",
       "  'data',\n",
       "  'useless',\n",
       "  'nt',\n",
       "  'keep',\n",
       "  'popul',\n",
       "  'chart',\n",
       "  'trend',\n",
       "  'chart',\n",
       "  'show',\n",
       "  'bit',\n",
       "  'volatil',\n",
       "  'nt',\n",
       "  'chang',\n",
       "  'trend'],\n",
       " ['page',\n",
       "  'seem',\n",
       "  'littl',\n",
       "  'mislead',\n",
       "  'reason',\n",
       "  'midpoint',\n",
       "  'rule',\n",
       "  'give',\n",
       "  'accur',\n",
       "  'answer',\n",
       "  'acceler',\n",
       "  'constant',\n",
       "  'midpoint',\n",
       "  'actual',\n",
       "  'analyt',\n",
       "  'solut',\n",
       "  'acceler',\n",
       "  'constant',\n",
       "  'howev',\n",
       "  'gener',\n",
       "  'applic',\n",
       "  'system',\n",
       "  'acceler',\n",
       "  'constant'],\n",
       " ['actual', 'account', 'never', 'delet']]"
      ]
     },
     "execution_count": 22,
     "metadata": {},
     "output_type": "execute_result"
    }
   ],
   "source": [
    "clean_text_5 = []\n",
    "\n",
    "for words in clean_text_4:\n",
    "    w = []\n",
    "    for word in words:\n",
    "        w.append(port.stem(word))\n",
    "    clean_text_5.append(w)\n",
    "\n",
    "clean_text_5"
   ]
  },
  {
   "cell_type": "markdown",
   "id": "124cfd79",
   "metadata": {},
   "source": [
    "# Lemmatization"
   ]
  },
  {
   "cell_type": "code",
   "execution_count": 23,
   "id": "71278619",
   "metadata": {},
   "outputs": [],
   "source": [
    "#Lemmatization\n",
    "\n",
    "from nltk.stem.wordnet import WordNetLemmatizer\n",
    " \n",
    "wnet = WordNetLemmatizer()"
   ]
  },
  {
   "cell_type": "code",
   "execution_count": 24,
   "id": "20cf36f6",
   "metadata": {
    "scrolled": true
   },
   "outputs": [
    {
     "data": {
      "text/plain": [
       "[['new',\n",
       "  'main',\n",
       "  'picture',\n",
       "  'main',\n",
       "  'picture',\n",
       "  'sadly',\n",
       "  'dont',\n",
       "  'body',\n",
       "  'showing',\n",
       "  'get',\n",
       "  'idea'],\n",
       " ['think',\n",
       "  'like',\n",
       "  'population',\n",
       "  'chart',\n",
       "  'every',\n",
       "  '5',\n",
       "  'year',\n",
       "  'go',\n",
       "  'back',\n",
       "  'revise',\n",
       "  'population',\n",
       "  'number',\n",
       "  'previous',\n",
       "  'year',\n",
       "  'nt',\n",
       "  'mean',\n",
       "  'data',\n",
       "  'useless',\n",
       "  'nt',\n",
       "  'keep',\n",
       "  'population',\n",
       "  'chart',\n",
       "  'trend',\n",
       "  'chart',\n",
       "  'show',\n",
       "  'bit',\n",
       "  'volatility',\n",
       "  'nt',\n",
       "  'change',\n",
       "  'trend'],\n",
       " ['page',\n",
       "  'seems',\n",
       "  'little',\n",
       "  'misleading',\n",
       "  'reason',\n",
       "  'midpoint',\n",
       "  'rule',\n",
       "  'give',\n",
       "  'accurate',\n",
       "  'answer',\n",
       "  'acceleration',\n",
       "  'constant',\n",
       "  'midpoint',\n",
       "  'actually',\n",
       "  'analytical',\n",
       "  'solution',\n",
       "  'acceleration',\n",
       "  'constant',\n",
       "  'however',\n",
       "  'generally',\n",
       "  'applicable',\n",
       "  'system',\n",
       "  'acceleration',\n",
       "  'constant'],\n",
       " ['actually', 'account', 'never', 'deleted']]"
      ]
     },
     "execution_count": 24,
     "metadata": {},
     "output_type": "execute_result"
    }
   ],
   "source": [
    "lem = []\n",
    "\n",
    "for words in clean_text_4:\n",
    "    w = []\n",
    "    for word in words:\n",
    "        w.append(wnet.lemmatize(word))\n",
    "    lem.append(w)\n",
    "    \n",
    "lem"
   ]
  },
  {
   "cell_type": "markdown",
   "id": "f3584c6b",
   "metadata": {},
   "source": [
    "# Part of speech tagging"
   ]
  },
  {
   "cell_type": "code",
   "execution_count": 27,
   "id": "37350d52",
   "metadata": {
    "scrolled": false
   },
   "outputs": [
    {
     "name": "stdout",
     "output_type": "stream",
     "text": [
      "[[('new', 'JJ'), ('main', 'JJ'), ('picture', 'NN'), ('main', 'JJ'), ('picture', 'NN'), ('sadly', 'RB'), ('dont', 'VBZ'), ('body', 'NN'), ('showing', 'VBG'), ('get', 'VB'), ('idea', 'NN')], [('think', 'VBP'), ('like', 'IN'), ('population', 'NN'), ('chart', 'NN'), ('every', 'DT'), ('5', 'CD'), ('year', 'NN'), ('go', 'VBP'), ('back', 'RB'), ('revise', 'JJ'), ('population', 'NN'), ('number', 'NN'), ('previous', 'JJ'), ('year', 'NN'), ('nt', 'RB'), ('mean', 'JJ'), ('data', 'NNS'), ('useless', 'NN'), ('nt', 'JJ'), ('keep', 'VB'), ('population', 'NN'), ('chart', 'NN'), ('trend', 'NN'), ('chart', 'NN'), ('show', 'VBP'), ('bit', 'NN'), ('volatility', 'NN'), ('nt', 'VBP'), ('change', 'NN'), ('trend', 'NN')], [('page', 'NN'), ('seems', 'VBZ'), ('little', 'JJ'), ('misleading', 'JJ'), ('reason', 'NN'), ('midpoint', 'NN'), ('rule', 'NN'), ('give', 'VBP'), ('accurate', 'NN'), ('answer', 'NN'), ('acceleration', 'NN'), ('constant', 'JJ'), ('midpoint', 'NN'), ('actually', 'RB'), ('analytical', 'JJ'), ('solution', 'NN'), ('acceleration', 'NN'), ('constant', 'JJ'), ('however', 'RB'), ('generally', 'RB'), ('applicable', 'JJ'), ('system', 'NN'), ('acceleration', 'NN'), ('constant', 'NN')]]\n"
     ]
    }
   ],
   "source": [
    "#part of speech tagging\n",
    "pos = [nltk.pos_tag(tokenized_sent) for tokenized_sent in lem ]\n",
    "print(pos[:3])"
   ]
  },
  {
   "cell_type": "markdown",
   "id": "c025bddf",
   "metadata": {},
   "source": [
    "# Chunking"
   ]
  },
  {
   "cell_type": "code",
   "execution_count": 28,
   "id": "84a78765",
   "metadata": {
    "scrolled": true
   },
   "outputs": [
    {
     "name": "stdout",
     "output_type": "stream",
     "text": [
      "(S\n",
      "  (NP new/JJ main/JJ picture/NN)\n",
      "  (NP main/JJ picture/NN)\n",
      "  sadly/RB\n",
      "  dont/VBZ\n",
      "  (NP body/NN)\n",
      "  showing/VBG\n",
      "  get/VB\n",
      "  (NP idea/NN)\n",
      "  think/VBP\n",
      "  like/IN\n",
      "  (NP population/NN)\n",
      "  (NP chart/NN)\n",
      "  every/DT\n",
      "  5/CD\n",
      "  (NP year/NN)\n",
      "  go/VBP\n",
      "  back/RB\n",
      "  (NP revise/JJ population/NN)\n",
      "  (NP number/NN)\n",
      "  (NP previous/JJ year/NN)\n",
      "  nt/RB\n",
      "  mean/JJ\n",
      "  data/NNS\n",
      "  (NP useless/NN)\n",
      "  nt/JJ\n",
      "  keep/VB\n",
      "  (NP population/NN)\n",
      "  (NP chart/NN)\n",
      "  (NP trend/NN)\n",
      "  (NP chart/NN)\n",
      "  show/VBP\n",
      "  (NP bit/NN)\n",
      "  (NP volatility/NN)\n",
      "  nt/VBP\n",
      "  (NP change/NN)\n",
      "  (NP trend/NN)\n",
      "  (NP page/NN)\n",
      "  seems/VBZ\n",
      "  (NP little/JJ misleading/JJ reason/NN)\n",
      "  (NP midpoint/NN)\n",
      "  (NP rule/NN)\n",
      "  give/VBP\n",
      "  (NP accurate/NN)\n",
      "  (NP answer/NN)\n",
      "  (NP acceleration/NN)\n",
      "  (NP constant/JJ midpoint/NN)\n",
      "  actually/RB\n",
      "  (NP analytical/JJ solution/NN)\n",
      "  (NP acceleration/NN)\n",
      "  constant/JJ\n",
      "  however/RB\n",
      "  generally/RB\n",
      "  (NP applicable/JJ system/NN)\n",
      "  (NP acceleration/NN)\n",
      "  (NP constant/NN)\n",
      "  actually/RB\n",
      "  account/VBP\n",
      "  never/RB\n",
      "  deleted/VBN)\n"
     ]
    }
   ],
   "source": [
    "flat_pos = itertools.chain(*pos)\n",
    "grammer = \"NP: {<DT>?<JJ>*<NN>}\"\n",
    "phrases = nltk.RegexpParser(grammer)\n",
    "result = phrases.parse(list(flat_pos)) \n",
    "print(result) \n",
    "result.draw()"
   ]
  },
  {
   "cell_type": "code",
   "execution_count": null,
   "id": "bcc0cbd0",
   "metadata": {},
   "outputs": [],
   "source": []
  },
  {
   "cell_type": "code",
   "execution_count": 30,
   "id": "a993f22e",
   "metadata": {},
   "outputs": [
    {
     "data": {
      "image/png": "[encoded data removed]",
      "text/plain": [
       "<Figure size 1440x720 with 1 Axes>"
      ]
     },
     "metadata": {
      "needs_background": "light"
     },
     "output_type": "display_data"
    }
   ],
   "source": [
    "from wordcloud import WordCloud\n",
    "import matplotlib.pyplot as plt\n",
    "wordcloud = WordCloud(width=1000, height=500).generate(''.join(raw_text.tolist()))\n",
    "# Display the generated image:\n",
    "plt.figure( figsize=(20,10))\n",
    "plt.imshow(wordcloud)\n",
    "plt.axis(\"off\")\n",
    "plt.show()\n",
    "\n",
    "\n",
    "\n",
    "# wordcloud = WordCloud(background_color=\"white\",width=1600,height=800).generate(''.join(train['question_text'].tolist()))\n",
    "# plt.figure( figsize=(20,10), facecolor='k')\n",
    "# plt.imshow(wordcloud)\n",
    "# plt.axis(\"off\")"
   ]
  },
  {
   "cell_type": "markdown",
   "id": "763855a7",
   "metadata": {},
   "source": [
    "# Different approach using Sentence tokenizer and Stemming"
   ]
  },
  {
   "cell_type": "code",
   "execution_count": 31,
   "id": "6f023071",
   "metadata": {
    "scrolled": false
   },
   "outputs": [
    {
     "data": {
      "text/html": [
       "<div>\n",
       "<style scoped>\n",
       "    .dataframe tbody tr th:only-of-type {\n",
       "        vertical-align: middle;\n",
       "    }\n",
       "\n",
       "    .dataframe tbody tr th {\n",
       "        vertical-align: top;\n",
       "    }\n",
       "\n",
       "    .dataframe thead th {\n",
       "        text-align: right;\n",
       "    }\n",
       "</style>\n",
       "<table border=\"1\" class=\"dataframe\">\n",
       "  <thead>\n",
       "    <tr style=\"text-align: right;\">\n",
       "      <th></th>\n",
       "      <th>id</th>\n",
       "      <th>text</th>\n",
       "      <th>harsh</th>\n",
       "      <th>extremely_harsh</th>\n",
       "      <th>vulgar</th>\n",
       "      <th>threatening</th>\n",
       "      <th>disrespect</th>\n",
       "      <th>targeted_hate</th>\n",
       "    </tr>\n",
       "  </thead>\n",
       "  <tbody>\n",
       "    <tr>\n",
       "      <th>5</th>\n",
       "      <td>e20adafdbc2a3b383daa</td>\n",
       "      <td>\"\\n\\n Hadith \\n\\nI think there should be hadit...</td>\n",
       "      <td>0</td>\n",
       "      <td>0</td>\n",
       "      <td>0</td>\n",
       "      <td>0</td>\n",
       "      <td>0</td>\n",
       "      <td>0</td>\n",
       "    </tr>\n",
       "    <tr>\n",
       "      <th>6</th>\n",
       "      <td>e38e8197772434b169a6</td>\n",
       "      <td>\"\\n\\n A-class or not \\nI've quick-failed an A-...</td>\n",
       "      <td>0</td>\n",
       "      <td>0</td>\n",
       "      <td>0</td>\n",
       "      <td>0</td>\n",
       "      <td>0</td>\n",
       "      <td>0</td>\n",
       "    </tr>\n",
       "    <tr>\n",
       "      <th>7</th>\n",
       "      <td>3a2c504dffe1fd652660</td>\n",
       "      <td>\"\\n\\nThe Underground: Issue 1 (August/Septembe...</td>\n",
       "      <td>0</td>\n",
       "      <td>0</td>\n",
       "      <td>0</td>\n",
       "      <td>0</td>\n",
       "      <td>0</td>\n",
       "      <td>0</td>\n",
       "    </tr>\n",
       "    <tr>\n",
       "      <th>8</th>\n",
       "      <td>7b6a161f8a96eeb24804</td>\n",
       "      <td>well do it then bitch ass faggot</td>\n",
       "      <td>1</td>\n",
       "      <td>0</td>\n",
       "      <td>1</td>\n",
       "      <td>0</td>\n",
       "      <td>1</td>\n",
       "      <td>1</td>\n",
       "    </tr>\n",
       "    <tr>\n",
       "      <th>9</th>\n",
       "      <td>0db48703e4be6a12853c</td>\n",
       "      <td>You're a real glutton for punishment. ;-)  Fat...</td>\n",
       "      <td>1</td>\n",
       "      <td>0</td>\n",
       "      <td>0</td>\n",
       "      <td>0</td>\n",
       "      <td>0</td>\n",
       "      <td>0</td>\n",
       "    </tr>\n",
       "    <tr>\n",
       "      <th>10</th>\n",
       "      <td>f4692dd769113eb6d194</td>\n",
       "      <td>BE@TKiCKEDiN\\n\\nit has come to my attention th...</td>\n",
       "      <td>0</td>\n",
       "      <td>0</td>\n",
       "      <td>0</td>\n",
       "      <td>0</td>\n",
       "      <td>0</td>\n",
       "      <td>0</td>\n",
       "    </tr>\n",
       "    <tr>\n",
       "      <th>11</th>\n",
       "      <td>842e328bbb9b6a7b14fa</td>\n",
       "      <td>\"\\n\\nwikipedia entry on ten-string guitar can ...</td>\n",
       "      <td>0</td>\n",
       "      <td>0</td>\n",
       "      <td>0</td>\n",
       "      <td>0</td>\n",
       "      <td>0</td>\n",
       "      <td>0</td>\n",
       "    </tr>\n",
       "    <tr>\n",
       "      <th>12</th>\n",
       "      <td>eaa2e084e119feb869ba</td>\n",
       "      <td>And I don't know where is it, it was a few hou...</td>\n",
       "      <td>0</td>\n",
       "      <td>0</td>\n",
       "      <td>0</td>\n",
       "      <td>0</td>\n",
       "      <td>0</td>\n",
       "      <td>0</td>\n",
       "    </tr>\n",
       "    <tr>\n",
       "      <th>13</th>\n",
       "      <td>49b4a79f31b394fc6c90</td>\n",
       "      <td>What a load of bollocks.   \\n\\n So Mr Bernstei...</td>\n",
       "      <td>1</td>\n",
       "      <td>0</td>\n",
       "      <td>0</td>\n",
       "      <td>0</td>\n",
       "      <td>0</td>\n",
       "      <td>0</td>\n",
       "    </tr>\n",
       "    <tr>\n",
       "      <th>14</th>\n",
       "      <td>43ce9b664122739d7450</td>\n",
       "      <td>\"\\n Do I need to be listed in the access list?...</td>\n",
       "      <td>0</td>\n",
       "      <td>0</td>\n",
       "      <td>0</td>\n",
       "      <td>0</td>\n",
       "      <td>0</td>\n",
       "      <td>0</td>\n",
       "    </tr>\n",
       "  </tbody>\n",
       "</table>\n",
       "</div>"
      ],
      "text/plain": [
       "                      id                                               text  \\\n",
       "5   e20adafdbc2a3b383daa  \"\\n\\n Hadith \\n\\nI think there should be hadit...   \n",
       "6   e38e8197772434b169a6  \"\\n\\n A-class or not \\nI've quick-failed an A-...   \n",
       "7   3a2c504dffe1fd652660  \"\\n\\nThe Underground: Issue 1 (August/Septembe...   \n",
       "8   7b6a161f8a96eeb24804                   well do it then bitch ass faggot   \n",
       "9   0db48703e4be6a12853c  You're a real glutton for punishment. ;-)  Fat...   \n",
       "10  f4692dd769113eb6d194  BE@TKiCKEDiN\\n\\nit has come to my attention th...   \n",
       "11  842e328bbb9b6a7b14fa  \"\\n\\nwikipedia entry on ten-string guitar can ...   \n",
       "12  eaa2e084e119feb869ba  And I don't know where is it, it was a few hou...   \n",
       "13  49b4a79f31b394fc6c90  What a load of bollocks.   \\n\\n So Mr Bernstei...   \n",
       "14  43ce9b664122739d7450  \"\\n Do I need to be listed in the access list?...   \n",
       "\n",
       "    harsh  extremely_harsh  vulgar  threatening  disrespect  targeted_hate  \n",
       "5       0                0       0            0           0              0  \n",
       "6       0                0       0            0           0              0  \n",
       "7       0                0       0            0           0              0  \n",
       "8       1                0       1            0           1              1  \n",
       "9       1                0       0            0           0              0  \n",
       "10      0                0       0            0           0              0  \n",
       "11      0                0       0            0           0              0  \n",
       "12      0                0       0            0           0              0  \n",
       "13      1                0       0            0           0              0  \n",
       "14      0                0       0            0           0              0  "
      ]
     },
     "execution_count": 31,
     "metadata": {},
     "output_type": "execute_result"
    }
   ],
   "source": [
    "data[5:15]"
   ]
  },
  {
   "cell_type": "code",
   "execution_count": 32,
   "id": "cd74d1d9",
   "metadata": {
    "scrolled": true
   },
   "outputs": [
    {
     "data": {
      "text/html": [
       "<div>\n",
       "<style scoped>\n",
       "    .dataframe tbody tr th:only-of-type {\n",
       "        vertical-align: middle;\n",
       "    }\n",
       "\n",
       "    .dataframe tbody tr th {\n",
       "        vertical-align: top;\n",
       "    }\n",
       "\n",
       "    .dataframe thead th {\n",
       "        text-align: right;\n",
       "    }\n",
       "</style>\n",
       "<table border=\"1\" class=\"dataframe\">\n",
       "  <thead>\n",
       "    <tr style=\"text-align: right;\">\n",
       "      <th></th>\n",
       "      <th>id</th>\n",
       "      <th>text</th>\n",
       "      <th>harsh</th>\n",
       "      <th>extremely_harsh</th>\n",
       "      <th>vulgar</th>\n",
       "      <th>threatening</th>\n",
       "      <th>disrespect</th>\n",
       "      <th>targeted_hate</th>\n",
       "    </tr>\n",
       "  </thead>\n",
       "  <tbody>\n",
       "    <tr>\n",
       "      <th>8</th>\n",
       "      <td>7b6a161f8a96eeb24804</td>\n",
       "      <td>well do it then bitch ass faggot</td>\n",
       "      <td>1</td>\n",
       "      <td>0</td>\n",
       "      <td>1</td>\n",
       "      <td>0</td>\n",
       "      <td>1</td>\n",
       "      <td>1</td>\n",
       "    </tr>\n",
       "    <tr>\n",
       "      <th>9</th>\n",
       "      <td>0db48703e4be6a12853c</td>\n",
       "      <td>You're a real glutton for punishment. ;-)  Fat...</td>\n",
       "      <td>1</td>\n",
       "      <td>0</td>\n",
       "      <td>0</td>\n",
       "      <td>0</td>\n",
       "      <td>0</td>\n",
       "      <td>0</td>\n",
       "    </tr>\n",
       "    <tr>\n",
       "      <th>13</th>\n",
       "      <td>49b4a79f31b394fc6c90</td>\n",
       "      <td>What a load of bollocks.   \\n\\n So Mr Bernstei...</td>\n",
       "      <td>1</td>\n",
       "      <td>0</td>\n",
       "      <td>0</td>\n",
       "      <td>0</td>\n",
       "      <td>0</td>\n",
       "      <td>0</td>\n",
       "    </tr>\n",
       "    <tr>\n",
       "      <th>27</th>\n",
       "      <td>adbcc8e79fdf91625f6b</td>\n",
       "      <td>Go take a hike, scum! Why in the name of the G...</td>\n",
       "      <td>1</td>\n",
       "      <td>0</td>\n",
       "      <td>1</td>\n",
       "      <td>0</td>\n",
       "      <td>1</td>\n",
       "      <td>0</td>\n",
       "    </tr>\n",
       "    <tr>\n",
       "      <th>29</th>\n",
       "      <td>9e47b67d84227014f743</td>\n",
       "      <td>You had no right to call me that disgusting na...</td>\n",
       "      <td>1</td>\n",
       "      <td>0</td>\n",
       "      <td>0</td>\n",
       "      <td>0</td>\n",
       "      <td>1</td>\n",
       "      <td>0</td>\n",
       "    </tr>\n",
       "  </tbody>\n",
       "</table>\n",
       "</div>"
      ],
      "text/plain": [
       "                      id                                               text  \\\n",
       "8   7b6a161f8a96eeb24804                   well do it then bitch ass faggot   \n",
       "9   0db48703e4be6a12853c  You're a real glutton for punishment. ;-)  Fat...   \n",
       "13  49b4a79f31b394fc6c90  What a load of bollocks.   \\n\\n So Mr Bernstei...   \n",
       "27  adbcc8e79fdf91625f6b  Go take a hike, scum! Why in the name of the G...   \n",
       "29  9e47b67d84227014f743  You had no right to call me that disgusting na...   \n",
       "\n",
       "    harsh  extremely_harsh  vulgar  threatening  disrespect  targeted_hate  \n",
       "8       1                0       1            0           1              1  \n",
       "9       1                0       0            0           0              0  \n",
       "13      1                0       0            0           0              0  \n",
       "27      1                0       1            0           1              0  \n",
       "29      1                0       0            0           1              0  "
      ]
     },
     "execution_count": 32,
     "metadata": {},
     "output_type": "execute_result"
    }
   ],
   "source": [
    "data[data['harsh'] == 1].head()"
   ]
  },
  {
   "cell_type": "code",
   "execution_count": 33,
   "id": "3e8ecb31",
   "metadata": {},
   "outputs": [],
   "source": [
    "X_test = data.loc[18:22,'text']\n",
    "y_test = data.loc[18:22,'harsh']"
   ]
  },
  {
   "cell_type": "code",
   "execution_count": 34,
   "id": "0a7064c3",
   "metadata": {},
   "outputs": [],
   "source": [
    "X_train = data.loc[5:15,'text']\n",
    "y_train = data.loc[5:15,'harsh']"
   ]
  },
  {
   "cell_type": "code",
   "execution_count": 35,
   "id": "c40d3b27",
   "metadata": {},
   "outputs": [
    {
     "data": {
      "text/plain": [
       "5     0\n",
       "6     0\n",
       "7     0\n",
       "8     1\n",
       "9     1\n",
       "10    0\n",
       "11    0\n",
       "12    0\n",
       "13    1\n",
       "14    0\n",
       "15    0\n",
       "Name: harsh, dtype: int64"
      ]
     },
     "execution_count": 35,
     "metadata": {},
     "output_type": "execute_result"
    }
   ],
   "source": [
    "y_train"
   ]
  },
  {
   "cell_type": "code",
   "execution_count": 36,
   "id": "d313d310",
   "metadata": {},
   "outputs": [
    {
     "name": "stderr",
     "output_type": "stream",
     "text": [
      "[nltk_data] Downloading package stopwords to /home/ibab/nltk_data...\n",
      "[nltk_data]   Package stopwords is already up-to-date!\n"
     ]
    },
    {
     "data": {
      "text/plain": [
       "True"
      ]
     },
     "execution_count": 36,
     "metadata": {},
     "output_type": "execute_result"
    }
   ],
   "source": [
    "#Data cleaning\n",
    "\n",
    "from nltk.tokenize import RegexpTokenizer\n",
    "from nltk.stem.porter import PorterStemmer\n",
    "\n",
    "nltk.download('stopwords')"
   ]
  },
  {
   "cell_type": "code",
   "execution_count": 37,
   "id": "5886126a",
   "metadata": {},
   "outputs": [],
   "source": [
    "tokenizer = RegexpTokenizer(r'\\w+')\n",
    "en_stopwords = set(stopwords.words('english'))\n",
    "ps = PorterStemmer()"
   ]
  },
  {
   "cell_type": "code",
   "execution_count": 38,
   "id": "77f0a4e3",
   "metadata": {},
   "outputs": [],
   "source": [
    "def getCleanedText(text):\n",
    "    text = text.lower()\n",
    "    \n",
    "    #tokenize\n",
    "    tokens = tokenizer.tokenize(text) #regexp tokenizer\n",
    "    new_tokens = [token for token in tokens if token not in en_stopwords ] #stopwords removsl\n",
    "    stem_tok = [ ps.stem(token) for token in new_tokens ] #stem\n",
    "    clean_text = \" \".join(stem_tok)\n",
    "    return clean_text"
   ]
  },
  {
   "cell_type": "code",
   "execution_count": 39,
   "id": "f4f290c7",
   "metadata": {},
   "outputs": [
    {
     "data": {
      "text/plain": [
       "['sorri wrong document mistakenli quot document committe peac secur gulf thank catch error',\n",
       " 'best idea yet 0918 2007 12 13 21 05z',\n",
       " 'stop rving dixi kong confirm seen diddi event updat screenshot krystal confirm due voic actor leak ye leaker reliabl known leak p info real said sora reliabl famitsu said marth roy brawl pichu deconfirm alt costum updat mr game watch due icon theori leav',\n",
       " 'absolut terrif thank much often thought would great whole collect wikimedia without time peopl know imho nation treasur valli nagi',\n",
       " '1 wikipedian worth salt look sourc dismiss admiss call nonsens without bother check publish say front page bother googl plu referenc call sloppi least 2 polici deal contradict reliabl sourc call wp due say viewpoint publish reliabl sourc given space articl proport promin viewpoint even knew figur sourc bleiburg possibl know anyway suppos automat reject sourc question repres signific viewpoint particular case differ histori told historian region repres signific viewpoint fact actual suppos includ actual oblig per wp polici talk']"
      ]
     },
     "execution_count": 39,
     "metadata": {},
     "output_type": "execute_result"
    }
   ],
   "source": [
    "X_clean = [getCleanedText(i) for i in X_train ]\n",
    "Xt_clean = [getCleanedText(i) for i in X_test ]\n",
    "Xt_clean\n"
   ]
  },
  {
   "cell_type": "code",
   "execution_count": 90,
   "id": "e0ebf240",
   "metadata": {},
   "outputs": [],
   "source": [
    "#Vectorization \n",
    "\n",
    "from sklearn.feature_extraction.text import CountVectorizer\n",
    "\n",
    "cv = CountVectorizer()"
   ]
  },
  {
   "cell_type": "code",
   "execution_count": 102,
   "id": "ff454df1",
   "metadata": {
    "scrolled": true
   },
   "outputs": [
    {
     "data": {
      "text/plain": [
       "(11, 306)"
      ]
     },
     "execution_count": 102,
     "metadata": {},
     "output_type": "execute_result"
    }
   ],
   "source": [
    "X_vec = cv.fit_transform(X_clean)\n",
    "cv.get_feature_names_out()\n",
    "X_vec = X_vec.toarray()\n",
    "X_vec.shape"
   ]
  },
  {
   "cell_type": "code",
   "execution_count": 92,
   "id": "a19f71cc",
   "metadata": {},
   "outputs": [
    {
     "data": {
      "text/plain": [
       "array([[0, 0, 0, 0, 0],\n",
       "       [0, 0, 0, 0, 0],\n",
       "       [0, 0, 0, 1, 0],\n",
       "       [0, 0, 0, 0, 0],\n",
       "       [0, 0, 0, 0, 0]])"
      ]
     },
     "execution_count": 92,
     "metadata": {},
     "output_type": "execute_result"
    }
   ],
   "source": [
    "X_vec[:5,:5]"
   ]
  },
  {
   "cell_type": "code",
   "execution_count": 93,
   "id": "f21e2817",
   "metadata": {
    "scrolled": true
   },
   "outputs": [
    {
     "data": {
      "text/plain": [
       "array([[0, 0, 0, 0, 0],\n",
       "       [1, 1, 1, 1, 1],\n",
       "       [0, 0, 0, 0, 0],\n",
       "       [0, 0, 0, 0, 0],\n",
       "       [0, 0, 0, 0, 0]])"
      ]
     },
     "execution_count": 93,
     "metadata": {},
     "output_type": "execute_result"
    }
   ],
   "source": [
    "Xt_vect = cv.fit_transform(Xt_clean).toarray()\n",
    "Xt_vect[:5,:5]"
   ]
  },
  {
   "cell_type": "code",
   "execution_count": 94,
   "id": "b77eeffa",
   "metadata": {},
   "outputs": [
    {
     "name": "stdout",
     "output_type": "stream",
     "text": [
      "(11, 306) (5, 132)\n"
     ]
    }
   ],
   "source": [
    "print(X_vec.shape,Xt_vect.shape)"
   ]
  },
  {
   "cell_type": "markdown",
   "id": "cb46ebae",
   "metadata": {},
   "source": [
    "# TF-IDF Vectorizer"
   ]
  },
  {
   "cell_type": "code",
   "execution_count": 45,
   "id": "35172186",
   "metadata": {
    "scrolled": true
   },
   "outputs": [
    {
     "name": "stdout",
     "output_type": "stream",
     "text": [
      "Without Smoothing:\n",
      "    01 anticip  10 string     20 40  2012 deliv   2015 01  2015 nervo  \\\n",
      "0     0.000000   0.000000  0.000000    0.000000  0.000000    0.000000   \n",
      "1     0.000000   0.000000  0.000000    0.000000  0.000000    0.000000   \n",
      "2     0.000000   0.000000  0.000000    0.154303  0.000000    0.000000   \n",
      "3     0.000000   0.000000  0.000000    0.000000  0.000000    0.000000   \n",
      "4     0.000000   0.000000  0.000000    0.000000  0.000000    0.000000   \n",
      "5     0.000000   0.000000  0.000000    0.000000  0.000000    0.000000   \n",
      "6     0.000000   0.181902  0.000000    0.000000  0.000000    0.000000   \n",
      "7     0.000000   0.000000  0.000000    0.000000  0.000000    0.000000   \n",
      "8     0.000000   0.000000  0.000000    0.000000  0.000000    0.000000   \n",
      "9     0.000000   0.000000  0.000000    0.000000  0.000000    0.000000   \n",
      "10    0.179605   0.000000  0.179605    0.000000  0.179605    0.179605   \n",
      "\n",
      "    2015 utc   22 juli     40 22  a26109 nervo  ...  wikipedia start  \\\n",
      "0   0.000000  0.000000  0.000000      0.000000  ...         0.000000   \n",
      "1   0.000000  0.000000  0.000000      0.000000  ...         0.000000   \n",
      "2   0.000000  0.000000  0.000000      0.000000  ...         0.000000   \n",
      "3   0.000000  0.000000  0.000000      0.000000  ...         0.000000   \n",
      "4   0.000000  0.000000  0.000000      0.000000  ...         0.000000   \n",
      "5   0.000000  0.000000  0.000000      0.000000  ...         0.144338   \n",
      "6   0.000000  0.000000  0.000000      0.000000  ...         0.000000   \n",
      "7   0.000000  0.000000  0.000000      0.000000  ...         0.000000   \n",
      "8   0.000000  0.000000  0.000000      0.000000  ...         0.000000   \n",
      "9   0.000000  0.000000  0.000000      0.000000  ...         0.000000   \n",
      "10  0.179605  0.179605  0.179605      0.179605  ...         0.000000   \n",
      "\n",
      "    wikiproject punk  word attempt  work hour  world famou  wrong good  \\\n",
      "0           0.000000      0.000000   0.000000     0.000000    0.000000   \n",
      "1           0.000000      0.000000   0.000000     0.000000    0.000000   \n",
      "2           0.308607      0.000000   0.000000     0.000000    0.000000   \n",
      "3           0.000000      0.000000   0.000000     0.000000    0.000000   \n",
      "4           0.000000      0.000000   0.000000     0.000000    0.000000   \n",
      "5           0.000000      0.000000   0.144338     0.144338    0.144338   \n",
      "6           0.000000      0.060634   0.000000     0.000000    0.000000   \n",
      "7           0.000000      0.000000   0.000000     0.000000    0.000000   \n",
      "8           0.000000      0.000000   0.000000     0.000000    0.000000   \n",
      "9           0.000000      0.000000   0.000000     0.000000    0.000000   \n",
      "10          0.000000      0.000000   0.000000     0.000000    0.000000   \n",
      "\n",
      "    www complex   www ell  yepe word  youtub thousand  \n",
      "0      0.000000  0.000000   0.000000         0.000000  \n",
      "1      0.000000  0.000000   0.000000         0.000000  \n",
      "2      0.000000  0.000000   0.000000         0.000000  \n",
      "3      0.000000  0.000000   0.000000         0.000000  \n",
      "4      0.000000  0.000000   0.000000         0.000000  \n",
      "5      0.000000  0.000000   0.000000         0.144338  \n",
      "6      0.000000  0.000000   0.060634         0.000000  \n",
      "7      0.000000  0.000000   0.000000         0.000000  \n",
      "8      0.000000  0.000000   0.000000         0.000000  \n",
      "9      0.000000  0.000000   0.000000         0.000000  \n",
      "10     0.179605  0.179605   0.000000         0.000000  \n",
      "\n",
      "[11 rows x 367 columns]\n",
      "\n",
      "\n"
     ]
    },
    {
     "name": "stderr",
     "output_type": "stream",
     "text": [
      "/home/ibab/.local/lib/python3.8/site-packages/sklearn/utils/deprecation.py:87: FutureWarning: Function get_feature_names is deprecated; get_feature_names is deprecated in 1.0 and will be removed in 1.2. Please use get_feature_names_out instead.\n",
      "  warnings.warn(msg, category=FutureWarning)\n"
     ]
    }
   ],
   "source": [
    "from sklearn.feature_extraction.text import TfidfVectorizer\n",
    " \n",
    "#without smooth IDF\n",
    "print(\"Without Smoothing:\")\n",
    "#define tf-idf\n",
    "tf_idf_vec = TfidfVectorizer(use_idf=True, \n",
    "                        smooth_idf=False,  \n",
    "                        ngram_range=(2,2),stop_words='english') # to use only  bigrams ngram_range=(2,2)\n",
    "#transform\n",
    "tf_idf_data = tf_idf_vec.fit_transform(X_clean)\n",
    " \n",
    "#create dataframe\n",
    "tf_idf_dataframe=pd.DataFrame(tf_idf_data.toarray(),columns=tf_idf_vec.get_feature_names())\n",
    "print(tf_idf_dataframe)\n",
    "print(\"\\n\")"
   ]
  },
  {
   "cell_type": "code",
   "execution_count": 46,
   "id": "e8ee2451",
   "metadata": {},
   "outputs": [
    {
     "name": "stdout",
     "output_type": "stream",
     "text": [
      "With Smoothing:\n",
      "   0918 2007     12 13     13 21   2007 12    21 05z  absolut terrif  \\\n",
      "0   0.000000  0.000000  0.000000  0.000000  0.000000        0.000000   \n",
      "1   0.377964  0.377964  0.377964  0.377964  0.377964        0.000000   \n",
      "2   0.000000  0.000000  0.000000  0.000000  0.000000        0.000000   \n",
      "3   0.000000  0.000000  0.000000  0.000000  0.000000        0.267261   \n",
      "4   0.000000  0.000000  0.000000  0.000000  0.000000        0.000000   \n",
      "\n",
      "   actor leak  actual oblig  actual suppos  admiss nonsens  ...  \\\n",
      "0    0.000000      0.000000       0.000000        0.000000  ...   \n",
      "1    0.000000      0.000000       0.000000        0.000000  ...   \n",
      "2    0.158114      0.000000       0.000000        0.000000  ...   \n",
      "3    0.000000      0.000000       0.000000        0.000000  ...   \n",
      "4    0.000000      0.117041       0.117041        0.117041  ...   \n",
      "\n",
      "   viewpoint publish  voic actor  watch icon  wikimedia time  \\\n",
      "0           0.000000    0.000000    0.000000        0.000000   \n",
      "1           0.000000    0.000000    0.000000        0.000000   \n",
      "2           0.000000    0.158114    0.158114        0.000000   \n",
      "3           0.000000    0.000000    0.000000        0.267261   \n",
      "4           0.117041    0.000000    0.000000        0.000000   \n",
      "\n",
      "   wikipedian worth  worth salt  wp polici    wp say  wrong document  \\\n",
      "0          0.000000    0.000000   0.000000  0.000000        0.288675   \n",
      "1          0.000000    0.000000   0.000000  0.000000        0.000000   \n",
      "2          0.000000    0.000000   0.000000  0.000000        0.000000   \n",
      "3          0.000000    0.000000   0.000000  0.000000        0.000000   \n",
      "4          0.117041    0.117041   0.117041  0.117041        0.000000   \n",
      "\n",
      "   ye leaker  \n",
      "0   0.000000  \n",
      "1   0.000000  \n",
      "2   0.158114  \n",
      "3   0.000000  \n",
      "4   0.000000  \n",
      "\n",
      "[5 rows x 137 columns]\n"
     ]
    },
    {
     "name": "stderr",
     "output_type": "stream",
     "text": [
      "/home/ibab/.local/lib/python3.8/site-packages/sklearn/utils/deprecation.py:87: FutureWarning: Function get_feature_names is deprecated; get_feature_names is deprecated in 1.0 and will be removed in 1.2. Please use get_feature_names_out instead.\n",
      "  warnings.warn(msg, category=FutureWarning)\n"
     ]
    }
   ],
   "source": [
    "#with smooth\n",
    "tf_idf_vec_smooth = TfidfVectorizer(use_idf=True,  \n",
    "                        smooth_idf=True,  \n",
    "                        ngram_range=(2,2),stop_words='english')\n",
    " \n",
    " \n",
    "tf_idf_data_smooth = tf_idf_vec_smooth.fit_transform(Xt_clean)\n",
    " \n",
    "print(\"With Smoothing:\")\n",
    "tf_idf_dataframe_smooth=pd.DataFrame(tf_idf_data_smooth.toarray(),columns=tf_idf_vec_smooth.get_feature_names())\n",
    "print(tf_idf_dataframe_smooth)"
   ]
  },
  {
   "cell_type": "code",
   "execution_count": null,
   "id": "57b9c450",
   "metadata": {},
   "outputs": [],
   "source": []
  },
  {
   "cell_type": "code",
   "execution_count": 50,
   "id": "b30c613e",
   "metadata": {},
   "outputs": [
    {
     "data": {
      "text/plain": [
       "MultinomialNB()"
      ]
     },
     "execution_count": 50,
     "metadata": {},
     "output_type": "execute_result"
    }
   ],
   "source": [
    "#Multinomial naive bayes\n",
    "\n",
    "from sklearn.naive_bayes import MultinomialNB\n",
    "\n",
    "mn = MultinomialNB()\n",
    "\n",
    "mn.fit(X_vec,y_train)"
   ]
  },
  {
   "cell_type": "code",
   "execution_count": 57,
   "id": "cbc37f60",
   "metadata": {},
   "outputs": [
    {
     "data": {
      "text/plain": [
       "(1, 407)"
      ]
     },
     "execution_count": 57,
     "metadata": {},
     "output_type": "execute_result"
    }
   ],
   "source": [
    "X_vec[7].reshape(1,-1).shape"
   ]
  },
  {
   "cell_type": "code",
   "execution_count": 70,
   "id": "1d9c3d7b",
   "metadata": {
    "scrolled": true
   },
   "outputs": [
    {
     "data": {
      "text/plain": [
       "array([[9.99542211e-01, 4.57788513e-04]])"
      ]
     },
     "execution_count": 70,
     "metadata": {},
     "output_type": "execute_result"
    }
   ],
   "source": [
    "mn.predict_proba(X_vec[1].reshape(1,-1))"
   ]
  },
  {
   "cell_type": "code",
   "execution_count": 69,
   "id": "d74e40b7",
   "metadata": {},
   "outputs": [
    {
     "data": {
      "text/plain": [
       "'class quick fail class review biographi project two fair use imag without fair use rational entir section without refer suffici quick fail ga review must quick fail class review well b class highest get rab'"
      ]
     },
     "execution_count": 69,
     "metadata": {},
     "output_type": "execute_result"
    }
   ],
   "source": [
    "X_clean[1]"
   ]
  },
  {
   "cell_type": "code",
   "execution_count": 49,
   "id": "df780e09",
   "metadata": {},
   "outputs": [
    {
     "ename": "SyntaxError",
     "evalue": "invalid syntax (<ipython-input-49-1035400a5a91>, line 1)",
     "output_type": "error",
     "traceback": [
      "\u001b[0;36m  File \u001b[0;32m\"<ipython-input-49-1035400a5a91>\"\u001b[0;36m, line \u001b[0;32m1\u001b[0m\n\u001b[0;31m    for i in\u001b[0m\n\u001b[0m             ^\u001b[0m\n\u001b[0;31mSyntaxError\u001b[0m\u001b[0;31m:\u001b[0m invalid syntax\n"
     ]
    }
   ],
   "source": [
    "for i in \n",
    "    all_words.append()"
   ]
  },
  {
   "cell_type": "code",
   "execution_count": null,
   "id": "b6372cef",
   "metadata": {},
   "outputs": [],
   "source": [
    "allowed_word_types = ['J'] #J is adjective\n",
    "all_words = []\n",
    "for w in pos:\n",
    "        if w[1][1][0] in allowed_word_types:\n",
    "            all_words.append(w[1][0].lower())\n",
    "\n"
   ]
  },
  {
   "cell_type": "code",
   "execution_count": null,
   "id": "95392254",
   "metadata": {
    "scrolled": true
   },
   "outputs": [],
   "source": [
    "mn.predict(Xt_vect)"
   ]
  },
  {
   "cell_type": "markdown",
   "id": "920035f1",
   "metadata": {},
   "source": [
    "# Combining train and test data\n"
   ]
  },
  {
   "cell_type": "code",
   "execution_count": 72,
   "id": "2eb14129",
   "metadata": {},
   "outputs": [
    {
     "data": {
      "text/html": [
       "<div>\n",
       "<style scoped>\n",
       "    .dataframe tbody tr th:only-of-type {\n",
       "        vertical-align: middle;\n",
       "    }\n",
       "\n",
       "    .dataframe tbody tr th {\n",
       "        vertical-align: top;\n",
       "    }\n",
       "\n",
       "    .dataframe thead th {\n",
       "        text-align: right;\n",
       "    }\n",
       "</style>\n",
       "<table border=\"1\" class=\"dataframe\">\n",
       "  <thead>\n",
       "    <tr style=\"text-align: right;\">\n",
       "      <th></th>\n",
       "      <th>id</th>\n",
       "      <th>text</th>\n",
       "    </tr>\n",
       "  </thead>\n",
       "  <tbody>\n",
       "    <tr>\n",
       "      <th>0</th>\n",
       "      <td>25f48f649f60423c091b</td>\n",
       "      <td>, 19 May 2006 (UTC)\\nThey debate, they don't v...</td>\n",
       "    </tr>\n",
       "    <tr>\n",
       "      <th>1</th>\n",
       "      <td>5c7ac6d7fb400bbadfc7</td>\n",
       "      <td>\"\\n\\nI am completely nonplussed at this \"\"We'v...</td>\n",
       "    </tr>\n",
       "    <tr>\n",
       "      <th>2</th>\n",
       "      <td>d00a363d57952496854f</td>\n",
       "      <td>\"\\n\\nUnblock request\\n\\nCategory:User block te...</td>\n",
       "    </tr>\n",
       "    <tr>\n",
       "      <th>3</th>\n",
       "      <td>b082c69afa60b378503d</td>\n",
       "      <td>Dave 1185 \\n\\nIf you have a moment, can you he...</td>\n",
       "    </tr>\n",
       "    <tr>\n",
       "      <th>4</th>\n",
       "      <td>1a585118ed7e1f29b38b</td>\n",
       "      <td>WarningPlease stop adding nonsense to Wikipedi...</td>\n",
       "    </tr>\n",
       "  </tbody>\n",
       "</table>\n",
       "</div>"
      ],
      "text/plain": [
       "                     id                                               text\n",
       "0  25f48f649f60423c091b  , 19 May 2006 (UTC)\\nThey debate, they don't v...\n",
       "1  5c7ac6d7fb400bbadfc7  \"\\n\\nI am completely nonplussed at this \"\"We'v...\n",
       "2  d00a363d57952496854f  \"\\n\\nUnblock request\\n\\nCategory:User block te...\n",
       "3  b082c69afa60b378503d  Dave 1185 \\n\\nIf you have a moment, can you he...\n",
       "4  1a585118ed7e1f29b38b  WarningPlease stop adding nonsense to Wikipedi..."
      ]
     },
     "execution_count": 72,
     "metadata": {},
     "output_type": "execute_result"
    }
   ],
   "source": [
    "test_data = pd.read_csv(\"/home/ibab/Desktop/ml_proj/test.csv\")\n",
    "test_data.head()"
   ]
  },
  {
   "cell_type": "code",
   "execution_count": 81,
   "id": "1729849e",
   "metadata": {},
   "outputs": [
    {
     "data": {
      "text/plain": [
       "(159571,)"
      ]
     },
     "execution_count": 81,
     "metadata": {},
     "output_type": "execute_result"
    }
   ],
   "source": [
    "tot_data = pd.concat([data,test_data])\n",
    "x = tot_data['text'][:]\n",
    "x.shape"
   ]
  },
  {
   "cell_type": "code",
   "execution_count": 83,
   "id": "d0cbde6c",
   "metadata": {},
   "outputs": [
    {
     "data": {
      "text/plain": [
       "['new main pictur main pictur sadli dont bodi show get idea',\n",
       " 'think like popul chart everi 5 year go back revis popul number previou year mean data useless keep popul chart trend chart show bit volatil chang trend']"
      ]
     },
     "execution_count": 83,
     "metadata": {},
     "output_type": "execute_result"
    }
   ],
   "source": [
    "text_clean = [getCleanedText(i) for i in x ]\n",
    "text_clean[:2]"
   ]
  },
  {
   "cell_type": "code",
   "execution_count": 80,
   "id": "2f2a0f59",
   "metadata": {},
   "outputs": [
    {
     "name": "stdout",
     "output_type": "stream",
     "text": [
      "3000\n"
     ]
    }
   ],
   "source": [
    "import sys\n",
    "print(sys.getrecursionlimit())"
   ]
  },
  {
   "cell_type": "code",
   "execution_count": 82,
   "id": "fde3369b",
   "metadata": {},
   "outputs": [],
   "source": [
    "sys.setrecursionlimit(200000)"
   ]
  },
  {
   "cell_type": "code",
   "execution_count": 86,
   "id": "95b230dc",
   "metadata": {},
   "outputs": [
    {
     "data": {
      "text/plain": [
       "159571"
      ]
     },
     "execution_count": 86,
     "metadata": {},
     "output_type": "execute_result"
    }
   ],
   "source": [
    "len(text_clean)"
   ]
  },
  {
   "cell_type": "code",
   "execution_count": 89,
   "id": "07a79b05",
   "metadata": {},
   "outputs": [
    {
     "ename": "MemoryError",
     "evalue": "Unable to allocate 183. GiB for an array with shape (159571, 153509) and data type int64",
     "output_type": "error",
     "traceback": [
      "\u001b[0;31m---------------------------------------------------------------------------\u001b[0m",
      "\u001b[0;31mMemoryError\u001b[0m                               Traceback (most recent call last)",
      "\u001b[0;32m<ipython-input-89-f55c5afda7c5>\u001b[0m in \u001b[0;36m<module>\u001b[0;34m\u001b[0m\n\u001b[1;32m      1\u001b[0m \u001b[0mcv\u001b[0m \u001b[0;34m=\u001b[0m \u001b[0mCountVectorizer\u001b[0m\u001b[0;34m(\u001b[0m\u001b[0;34m)\u001b[0m\u001b[0;34m\u001b[0m\u001b[0;34m\u001b[0m\u001b[0m\n\u001b[0;32m----> 2\u001b[0;31m \u001b[0mtext_clean_vec\u001b[0m \u001b[0;34m=\u001b[0m \u001b[0mcv\u001b[0m\u001b[0;34m.\u001b[0m\u001b[0mfit_transform\u001b[0m\u001b[0;34m(\u001b[0m\u001b[0mtext_clean\u001b[0m\u001b[0;34m)\u001b[0m\u001b[0;34m.\u001b[0m\u001b[0mtoarray\u001b[0m\u001b[0;34m(\u001b[0m\u001b[0;34m)\u001b[0m\u001b[0;34m\u001b[0m\u001b[0;34m\u001b[0m\u001b[0m\n\u001b[0m\u001b[1;32m      3\u001b[0m \u001b[0mtext_clean_vec\u001b[0m\u001b[0;34m.\u001b[0m\u001b[0mshape\u001b[0m\u001b[0;34m\u001b[0m\u001b[0;34m\u001b[0m\u001b[0m\n",
      "\u001b[0;32m~/.local/lib/python3.8/site-packages/scipy/sparse/compressed.py\u001b[0m in \u001b[0;36mtoarray\u001b[0;34m(self, order, out)\u001b[0m\n\u001b[1;32m   1029\u001b[0m         \u001b[0;32mif\u001b[0m \u001b[0mout\u001b[0m \u001b[0;32mis\u001b[0m \u001b[0;32mNone\u001b[0m \u001b[0;32mand\u001b[0m \u001b[0morder\u001b[0m \u001b[0;32mis\u001b[0m \u001b[0;32mNone\u001b[0m\u001b[0;34m:\u001b[0m\u001b[0;34m\u001b[0m\u001b[0;34m\u001b[0m\u001b[0m\n\u001b[1;32m   1030\u001b[0m             \u001b[0morder\u001b[0m \u001b[0;34m=\u001b[0m \u001b[0mself\u001b[0m\u001b[0;34m.\u001b[0m\u001b[0m_swap\u001b[0m\u001b[0;34m(\u001b[0m\u001b[0;34m'cf'\u001b[0m\u001b[0;34m)\u001b[0m\u001b[0;34m[\u001b[0m\u001b[0;36m0\u001b[0m\u001b[0;34m]\u001b[0m\u001b[0;34m\u001b[0m\u001b[0;34m\u001b[0m\u001b[0m\n\u001b[0;32m-> 1031\u001b[0;31m         \u001b[0mout\u001b[0m \u001b[0;34m=\u001b[0m \u001b[0mself\u001b[0m\u001b[0;34m.\u001b[0m\u001b[0m_process_toarray_args\u001b[0m\u001b[0;34m(\u001b[0m\u001b[0morder\u001b[0m\u001b[0;34m,\u001b[0m \u001b[0mout\u001b[0m\u001b[0;34m)\u001b[0m\u001b[0;34m\u001b[0m\u001b[0;34m\u001b[0m\u001b[0m\n\u001b[0m\u001b[1;32m   1032\u001b[0m         \u001b[0;32mif\u001b[0m \u001b[0;32mnot\u001b[0m \u001b[0;34m(\u001b[0m\u001b[0mout\u001b[0m\u001b[0;34m.\u001b[0m\u001b[0mflags\u001b[0m\u001b[0;34m.\u001b[0m\u001b[0mc_contiguous\u001b[0m \u001b[0;32mor\u001b[0m \u001b[0mout\u001b[0m\u001b[0;34m.\u001b[0m\u001b[0mflags\u001b[0m\u001b[0;34m.\u001b[0m\u001b[0mf_contiguous\u001b[0m\u001b[0;34m)\u001b[0m\u001b[0;34m:\u001b[0m\u001b[0;34m\u001b[0m\u001b[0;34m\u001b[0m\u001b[0m\n\u001b[1;32m   1033\u001b[0m             \u001b[0;32mraise\u001b[0m \u001b[0mValueError\u001b[0m\u001b[0;34m(\u001b[0m\u001b[0;34m'Output array must be C or F contiguous'\u001b[0m\u001b[0;34m)\u001b[0m\u001b[0;34m\u001b[0m\u001b[0;34m\u001b[0m\u001b[0m\n",
      "\u001b[0;32m~/.local/lib/python3.8/site-packages/scipy/sparse/base.py\u001b[0m in \u001b[0;36m_process_toarray_args\u001b[0;34m(self, order, out)\u001b[0m\n\u001b[1;32m   1200\u001b[0m             \u001b[0;32mreturn\u001b[0m \u001b[0mout\u001b[0m\u001b[0;34m\u001b[0m\u001b[0;34m\u001b[0m\u001b[0m\n\u001b[1;32m   1201\u001b[0m         \u001b[0;32melse\u001b[0m\u001b[0;34m:\u001b[0m\u001b[0;34m\u001b[0m\u001b[0;34m\u001b[0m\u001b[0m\n\u001b[0;32m-> 1202\u001b[0;31m             \u001b[0;32mreturn\u001b[0m \u001b[0mnp\u001b[0m\u001b[0;34m.\u001b[0m\u001b[0mzeros\u001b[0m\u001b[0;34m(\u001b[0m\u001b[0mself\u001b[0m\u001b[0;34m.\u001b[0m\u001b[0mshape\u001b[0m\u001b[0;34m,\u001b[0m \u001b[0mdtype\u001b[0m\u001b[0;34m=\u001b[0m\u001b[0mself\u001b[0m\u001b[0;34m.\u001b[0m\u001b[0mdtype\u001b[0m\u001b[0;34m,\u001b[0m \u001b[0morder\u001b[0m\u001b[0;34m=\u001b[0m\u001b[0morder\u001b[0m\u001b[0;34m)\u001b[0m\u001b[0;34m\u001b[0m\u001b[0;34m\u001b[0m\u001b[0m\n\u001b[0m\u001b[1;32m   1203\u001b[0m \u001b[0;34m\u001b[0m\u001b[0m\n\u001b[1;32m   1204\u001b[0m \u001b[0;34m\u001b[0m\u001b[0m\n",
      "\u001b[0;31mMemoryError\u001b[0m: Unable to allocate 183. GiB for an array with shape (159571, 153509) and data type int64"
     ]
    }
   ],
   "source": [
    "cv = CountVectorizer()\n",
    "text_clean_vec = cv.fit_transform(text_clean).toarray()\n",
    "text_clean_vec.shape"
   ]
  },
  {
   "cell_type": "code",
   "execution_count": 88,
   "id": "173160b4",
   "metadata": {},
   "outputs": [
    {
     "name": "stdout",
     "output_type": "stream",
     "text": [
      "/bin/bash: /proc/sys/vm/overcommit_memory: Permission denied\r\n"
     ]
    }
   ],
   "source": [
    "!sudo echo 1 > /proc/sys/vm/overcommit_memory"
   ]
  },
  {
   "cell_type": "code",
   "execution_count": null,
   "id": "262fcbe7",
   "metadata": {},
   "outputs": [],
   "source": []
  }
 ],
 "metadata": {
  "kernelspec": {
   "display_name": "Python 3 (ipykernel)",
   "language": "python",
   "name": "python3"
  },
  "language_info": {
   "codemirror_mode": {
    "name": "ipython",
    "version": 3
   },
   "file_extension": ".py",
   "mimetype": "text/x-python",
   "name": "python",
   "nbconvert_exporter": "python",
   "pygments_lexer": "ipython3",
   "version": "3.8.8"
  }
 },
 "nbformat": 4,
 "nbformat_minor": 5
}
